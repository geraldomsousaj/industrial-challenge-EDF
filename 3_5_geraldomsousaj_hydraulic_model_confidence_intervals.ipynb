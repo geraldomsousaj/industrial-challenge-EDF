{
  "nbformat": 4,
  "nbformat_minor": 0,
  "metadata": {
    "colab": {
      "name": "3.5-geraldomsousaj-hydraulic-model-confidence-intervals.ipynb",
      "provenance": [],
      "collapsed_sections": [],
      "mount_file_id": "1EcYbyBiFyLJpqAy9ScWj3iA1ujlI8znf",
      "authorship_tag": "ABX9TyPBTq7jXGn0JjERIgKmXcBA",
      "include_colab_link": true
    },
    "kernelspec": {
      "name": "python3",
      "display_name": "Python 3"
    },
    "language_info": {
      "name": "python"
    }
  },
  "cells": [
    {
      "cell_type": "markdown",
      "metadata": {
        "id": "view-in-github",
        "colab_type": "text"
      },
      "source": [
        "<a href=\"https://colab.research.google.com/github/geraldomsousaj/industrial-challenge-EDF/blob/importanceFactor/3_5_geraldomsousaj_hydraulic_model_confidence_intervals.ipynb\" target=\"_parent\"><img src=\"https://colab.research.google.com/assets/colab-badge.svg\" alt=\"Open In Colab\"/></a>"
      ]
    },
    {
      "cell_type": "code",
      "metadata": {
        "colab": {
          "base_uri": "https://localhost:8080/"
        },
        "id": "fRJ5VIFFhHbx",
        "outputId": "9eb574fd-c61d-46db-e271-de20ed5f5cc4"
      },
      "source": [
        "!pip install openturns \n",
        "import pandas as pd\n",
        "import numpy as np\n",
        "import openturns as ot\n",
        "import scipy\n",
        "import scipy.stats"
      ],
      "execution_count": 1,
      "outputs": [
        {
          "output_type": "stream",
          "text": [
            "Requirement already satisfied: openturns in /usr/local/lib/python3.7/dist-packages (1.17)\n"
          ],
          "name": "stdout"
        }
      ]
    },
    {
      "cell_type": "code",
      "metadata": {
        "id": "Qqd7pDN6A8hM"
      },
      "source": [
        "def confidence_interval(confidence_level, sample):\n",
        "    \"\"\"\n",
        "    Compute confidence interval for quantiles.\n",
        "\n",
        "    Parameters:\n",
        "        - confidence_level : (float) confidence level\n",
        "        - sample : (dataframe - column) data\n",
        "    \"\"\"\n",
        "    \n",
        "    degrees_freedom = sample.size - 1\n",
        "    sample_mean = sample.mean()\n",
        "    sample_standard_error = scipy.stats.sem(sample)\n",
        "    confidence_interval = scipy.stats.t.interval(confidence_level, degrees_freedom, sample_mean, sample_standard_error)\n",
        "    return confidence_interval\n",
        "    "
      ],
      "execution_count": 2,
      "outputs": []
    },
    {
      "cell_type": "code",
      "metadata": {
        "id": "n0jMATXxvH8Y"
      },
      "source": [
        "S_df = pd.read_csv('/content/drive/MyDrive/Materiais/CentraleSupélec/ST4/EI/df (2).csv')"
      ],
      "execution_count": 3,
      "outputs": []
    },
    {
      "cell_type": "code",
      "metadata": {
        "colab": {
          "base_uri": "https://localhost:8080/",
          "height": 204
        },
        "id": "MTM_7F2TAWde",
        "outputId": "dedb05d0-2a79-4b26-d9b6-75bc609d6419"
      },
      "source": [
        "S_df.head()"
      ],
      "execution_count": 4,
      "outputs": [
        {
          "output_type": "execute_result",
          "data": {
            "text/html": [
              "<div>\n",
              "<style scoped>\n",
              "    .dataframe tbody tr th:only-of-type {\n",
              "        vertical-align: middle;\n",
              "    }\n",
              "\n",
              "    .dataframe tbody tr th {\n",
              "        vertical-align: top;\n",
              "    }\n",
              "\n",
              "    .dataframe thead th {\n",
              "        text-align: right;\n",
              "    }\n",
              "</style>\n",
              "<table border=\"1\" class=\"dataframe\">\n",
              "  <thead>\n",
              "    <tr style=\"text-align: right;\">\n",
              "      <th></th>\n",
              "      <th>batch</th>\n",
              "      <th>N</th>\n",
              "      <th>q</th>\n",
              "      <th>positive</th>\n",
              "      <th>value</th>\n",
              "    </tr>\n",
              "  </thead>\n",
              "  <tbody>\n",
              "    <tr>\n",
              "      <th>0</th>\n",
              "      <td>1</td>\n",
              "      <td>1000</td>\n",
              "      <td>0.950</td>\n",
              "      <td>False</td>\n",
              "      <td>-1.204464</td>\n",
              "    </tr>\n",
              "    <tr>\n",
              "      <th>1</th>\n",
              "      <td>1</td>\n",
              "      <td>1000</td>\n",
              "      <td>0.970</td>\n",
              "      <td>False</td>\n",
              "      <td>-0.647725</td>\n",
              "    </tr>\n",
              "    <tr>\n",
              "      <th>2</th>\n",
              "      <td>1</td>\n",
              "      <td>1000</td>\n",
              "      <td>0.990</td>\n",
              "      <td>False</td>\n",
              "      <td>0.233622</td>\n",
              "    </tr>\n",
              "    <tr>\n",
              "      <th>3</th>\n",
              "      <td>1</td>\n",
              "      <td>1000</td>\n",
              "      <td>0.995</td>\n",
              "      <td>False</td>\n",
              "      <td>0.842226</td>\n",
              "    </tr>\n",
              "    <tr>\n",
              "      <th>4</th>\n",
              "      <td>1</td>\n",
              "      <td>1000</td>\n",
              "      <td>0.950</td>\n",
              "      <td>True</td>\n",
              "      <td>1.868197</td>\n",
              "    </tr>\n",
              "  </tbody>\n",
              "</table>\n",
              "</div>"
            ],
            "text/plain": [
              "   batch     N      q  positive     value\n",
              "0      1  1000  0.950     False -1.204464\n",
              "1      1  1000  0.970     False -0.647725\n",
              "2      1  1000  0.990     False  0.233622\n",
              "3      1  1000  0.995     False  0.842226\n",
              "4      1  1000  0.950      True  1.868197"
            ]
          },
          "metadata": {
            "tags": []
          },
          "execution_count": 4
        }
      ]
    },
    {
      "cell_type": "code",
      "metadata": {
        "id": "YlepE7ZeERYR"
      },
      "source": [
        "data = []\n",
        "for b in [True, False]:\n",
        "    for N in [ 1000, 10**4, 10**5, 10**6]:\n",
        "        for quant in [0.95, 0.99]:\n",
        "            for i in [0.95, 0.99]:\n",
        "                q = S_df[S_df.q == quant]\n",
        "                q_False = q[q.positive == b]\n",
        "                q_False_N = q_False[q_False.N == N]\n",
        "                ci = confidence_interval(i, q_False_N['value'])\n",
        "                dic = {\n",
        "                    \"whole_data\": b,\n",
        "                    \"quantile\": quant,\n",
        "                    \"confidence_level\": i, \n",
        "                    \"N\": N,\n",
        "                    \"inf\": ci[0],\n",
        "                    \"sup\": ci[1]\n",
        "                }\n",
        "                data.append(dic)\n"
      ],
      "execution_count": 5,
      "outputs": []
    },
    {
      "cell_type": "code",
      "metadata": {
        "colab": {
          "base_uri": "https://localhost:8080/",
          "height": 17
        },
        "id": "8ApoAamtHTpr",
        "outputId": "7970e231-74fd-41f7-fa2f-0468190748d9"
      },
      "source": [
        "pd.DataFrame(data, columns=data[0].keys()).to_csv('confidence_interval.csv')\n",
        "from google.colab import files\n",
        "files.download(\"confidence_interval.csv\")"
      ],
      "execution_count": 7,
      "outputs": [
        {
          "output_type": "display_data",
          "data": {
            "application/javascript": [
              "\n",
              "    async function download(id, filename, size) {\n",
              "      if (!google.colab.kernel.accessAllowed) {\n",
              "        return;\n",
              "      }\n",
              "      const div = document.createElement('div');\n",
              "      const label = document.createElement('label');\n",
              "      label.textContent = `Downloading \"${filename}\": `;\n",
              "      div.appendChild(label);\n",
              "      const progress = document.createElement('progress');\n",
              "      progress.max = size;\n",
              "      div.appendChild(progress);\n",
              "      document.body.appendChild(div);\n",
              "\n",
              "      const buffers = [];\n",
              "      let downloaded = 0;\n",
              "\n",
              "      const channel = await google.colab.kernel.comms.open(id);\n",
              "      // Send a message to notify the kernel that we're ready.\n",
              "      channel.send({})\n",
              "\n",
              "      for await (const message of channel.messages) {\n",
              "        // Send a message to notify the kernel that we're ready.\n",
              "        channel.send({})\n",
              "        if (message.buffers) {\n",
              "          for (const buffer of message.buffers) {\n",
              "            buffers.push(buffer);\n",
              "            downloaded += buffer.byteLength;\n",
              "            progress.value = downloaded;\n",
              "          }\n",
              "        }\n",
              "      }\n",
              "      const blob = new Blob(buffers, {type: 'application/binary'});\n",
              "      const a = document.createElement('a');\n",
              "      a.href = window.URL.createObjectURL(blob);\n",
              "      a.download = filename;\n",
              "      div.appendChild(a);\n",
              "      a.click();\n",
              "      div.remove();\n",
              "    }\n",
              "  "
            ],
            "text/plain": [
              "<IPython.core.display.Javascript object>"
            ]
          },
          "metadata": {
            "tags": []
          }
        },
        {
          "output_type": "display_data",
          "data": {
            "application/javascript": [
              "download(\"download_c6c9a595-f0aa-4cfd-bd55-81fa3a6ffaf3\", \"confidence_interval.csv\", 2061)"
            ],
            "text/plain": [
              "<IPython.core.display.Javascript object>"
            ]
          },
          "metadata": {
            "tags": []
          }
        }
      ]
    },
    {
      "cell_type": "code",
      "metadata": {
        "id": "dsdWRqF9LF0y"
      },
      "source": [
        ""
      ],
      "execution_count": 6,
      "outputs": []
    }
  ]
}