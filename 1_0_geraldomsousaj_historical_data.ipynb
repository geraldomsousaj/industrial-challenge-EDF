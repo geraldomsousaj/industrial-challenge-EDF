{
  "nbformat": 4,
  "nbformat_minor": 0,
  "metadata": {
    "colab": {
      "name": "1.0-geraldomsousaj-historical-data.ipynb",
      "provenance": [],
      "collapsed_sections": []
    },
    "kernelspec": {
      "name": "python3",
      "display_name": "Python 3"
    },
    "language_info": {
      "name": "python"
    }
  },
  "cells": [
    {
      "cell_type": "code",
      "metadata": {
        "id": "PfM0MvYwPIpR"
      },
      "source": [
        "import pandas as pd\n",
        "import numpy as np"
      ],
      "execution_count": null,
      "outputs": []
    },
    {
      "cell_type": "code",
      "metadata": {
        "id": "kJ5kWyEzPPNY"
      },
      "source": [
        "hd = pd.read_excel('/content/drive/MyDrive/Materiais/CentraleSupélec/ST4/EI/Données-projet-EDF_2018-2019.xls')"
      ],
      "execution_count": null,
      "outputs": []
    },
    {
      "cell_type": "code",
      "metadata": {
        "id": "AXMYJdJgPofC",
        "colab": {
          "base_uri": "https://localhost:8080/",
          "height": 297
        },
        "outputId": "a632163b-6928-446d-c3ab-968ae203226d"
      },
      "source": [
        "hd.describe()"
      ],
      "execution_count": null,
      "outputs": [
        {
          "output_type": "execute_result",
          "data": {
            "text/html": [
              "<div>\n",
              "<style scoped>\n",
              "    .dataframe tbody tr th:only-of-type {\n",
              "        vertical-align: middle;\n",
              "    }\n",
              "\n",
              "    .dataframe tbody tr th {\n",
              "        vertical-align: top;\n",
              "    }\n",
              "\n",
              "    .dataframe thead th {\n",
              "        text-align: right;\n",
              "    }\n",
              "</style>\n",
              "<table border=\"1\" class=\"dataframe\">\n",
              "  <thead>\n",
              "    <tr style=\"text-align: right;\">\n",
              "      <th></th>\n",
              "      <th>Année</th>\n",
              "      <th>Débit mesuré maximal annuel (en m3/s)</th>\n",
              "      <th>Hauteur associée mesurée (en m)</th>\n",
              "    </tr>\n",
              "  </thead>\n",
              "  <tbody>\n",
              "    <tr>\n",
              "      <th>count</th>\n",
              "      <td>149.000000</td>\n",
              "      <td>149.000000</td>\n",
              "      <td>123.000000</td>\n",
              "    </tr>\n",
              "    <tr>\n",
              "      <th>mean</th>\n",
              "      <td>1923.000000</td>\n",
              "      <td>1335.419913</td>\n",
              "      <td>3.896748</td>\n",
              "    </tr>\n",
              "    <tr>\n",
              "      <th>std</th>\n",
              "      <td>43.156691</td>\n",
              "      <td>713.926746</td>\n",
              "      <td>1.272337</td>\n",
              "    </tr>\n",
              "    <tr>\n",
              "      <th>min</th>\n",
              "      <td>1849.000000</td>\n",
              "      <td>122.435600</td>\n",
              "      <td>1.000000</td>\n",
              "    </tr>\n",
              "    <tr>\n",
              "      <th>25%</th>\n",
              "      <td>1886.000000</td>\n",
              "      <td>799.918835</td>\n",
              "      <td>3.100000</td>\n",
              "    </tr>\n",
              "    <tr>\n",
              "      <th>50%</th>\n",
              "      <td>1923.000000</td>\n",
              "      <td>1256.402143</td>\n",
              "      <td>3.900000</td>\n",
              "    </tr>\n",
              "    <tr>\n",
              "      <th>75%</th>\n",
              "      <td>1960.000000</td>\n",
              "      <td>1694.929723</td>\n",
              "      <td>4.750000</td>\n",
              "    </tr>\n",
              "    <tr>\n",
              "      <th>max</th>\n",
              "      <td>1997.000000</td>\n",
              "      <td>3853.892756</td>\n",
              "      <td>7.200000</td>\n",
              "    </tr>\n",
              "  </tbody>\n",
              "</table>\n",
              "</div>"
            ],
            "text/plain": [
              "             Année  ...  Hauteur associée mesurée (en m)\n",
              "count   149.000000  ...                       123.000000\n",
              "mean   1923.000000  ...                         3.896748\n",
              "std      43.156691  ...                         1.272337\n",
              "min    1849.000000  ...                         1.000000\n",
              "25%    1886.000000  ...                         3.100000\n",
              "50%    1923.000000  ...                         3.900000\n",
              "75%    1960.000000  ...                         4.750000\n",
              "max    1997.000000  ...                         7.200000\n",
              "\n",
              "[8 rows x 3 columns]"
            ]
          },
          "metadata": {
            "tags": []
          },
          "execution_count": 4
        }
      ]
    },
    {
      "cell_type": "code",
      "metadata": {
        "id": "NMOyJRDSPphS"
      },
      "source": [
        "import pandas as pd\n",
        "import numpy as np"
      ],
      "execution_count": 5,
      "outputs": []
    },
    {
      "cell_type": "markdown",
      "metadata": {
        "id": "IsgwnbJ0VSys"
      },
      "source": [
        "## 1. EDA\n",
        "\n",
        "(options to deal with missing data:\n",
        "- 1. drop missing data;\n",
        "- 2. "
      ]
    },
    {
      "cell_type": "code",
      "metadata": {
        "colab": {
          "base_uri": "https://localhost:8080/",
          "height": 297
        },
        "id": "SlMVh3hCP7jN",
        "outputId": "e1ff90d0-e4fd-4e90-e376-885f04957663"
      },
      "source": [
        "hd = pd.read_excel('/content/drive/MyDrive/Materiais/CentraleSupélec/ST4/EI/Données-projet-EDF_2018-2019.xls')\n",
        "hd.describe()"
      ],
      "execution_count": 6,
      "outputs": [
        {
          "output_type": "execute_result",
          "data": {
            "text/html": [
              "<div>\n",
              "<style scoped>\n",
              "    .dataframe tbody tr th:only-of-type {\n",
              "        vertical-align: middle;\n",
              "    }\n",
              "\n",
              "    .dataframe tbody tr th {\n",
              "        vertical-align: top;\n",
              "    }\n",
              "\n",
              "    .dataframe thead th {\n",
              "        text-align: right;\n",
              "    }\n",
              "</style>\n",
              "<table border=\"1\" class=\"dataframe\">\n",
              "  <thead>\n",
              "    <tr style=\"text-align: right;\">\n",
              "      <th></th>\n",
              "      <th>Année</th>\n",
              "      <th>Débit mesuré maximal annuel (en m3/s)</th>\n",
              "      <th>Hauteur associée mesurée (en m)</th>\n",
              "    </tr>\n",
              "  </thead>\n",
              "  <tbody>\n",
              "    <tr>\n",
              "      <th>count</th>\n",
              "      <td>149.000000</td>\n",
              "      <td>149.000000</td>\n",
              "      <td>123.000000</td>\n",
              "    </tr>\n",
              "    <tr>\n",
              "      <th>mean</th>\n",
              "      <td>1923.000000</td>\n",
              "      <td>1335.419913</td>\n",
              "      <td>3.896748</td>\n",
              "    </tr>\n",
              "    <tr>\n",
              "      <th>std</th>\n",
              "      <td>43.156691</td>\n",
              "      <td>713.926746</td>\n",
              "      <td>1.272337</td>\n",
              "    </tr>\n",
              "    <tr>\n",
              "      <th>min</th>\n",
              "      <td>1849.000000</td>\n",
              "      <td>122.435600</td>\n",
              "      <td>1.000000</td>\n",
              "    </tr>\n",
              "    <tr>\n",
              "      <th>25%</th>\n",
              "      <td>1886.000000</td>\n",
              "      <td>799.918835</td>\n",
              "      <td>3.100000</td>\n",
              "    </tr>\n",
              "    <tr>\n",
              "      <th>50%</th>\n",
              "      <td>1923.000000</td>\n",
              "      <td>1256.402143</td>\n",
              "      <td>3.900000</td>\n",
              "    </tr>\n",
              "    <tr>\n",
              "      <th>75%</th>\n",
              "      <td>1960.000000</td>\n",
              "      <td>1694.929723</td>\n",
              "      <td>4.750000</td>\n",
              "    </tr>\n",
              "    <tr>\n",
              "      <th>max</th>\n",
              "      <td>1997.000000</td>\n",
              "      <td>3853.892756</td>\n",
              "      <td>7.200000</td>\n",
              "    </tr>\n",
              "  </tbody>\n",
              "</table>\n",
              "</div>"
            ],
            "text/plain": [
              "             Année  ...  Hauteur associée mesurée (en m)\n",
              "count   149.000000  ...                       123.000000\n",
              "mean   1923.000000  ...                         3.896748\n",
              "std      43.156691  ...                         1.272337\n",
              "min    1849.000000  ...                         1.000000\n",
              "25%    1886.000000  ...                         3.100000\n",
              "50%    1923.000000  ...                         3.900000\n",
              "75%    1960.000000  ...                         4.750000\n",
              "max    1997.000000  ...                         7.200000\n",
              "\n",
              "[8 rows x 3 columns]"
            ]
          },
          "metadata": {
            "tags": []
          },
          "execution_count": 6
        }
      ]
    },
    {
      "cell_type": "code",
      "metadata": {
        "colab": {
          "base_uri": "https://localhost:8080/"
        },
        "id": "lU9Qk30-Qv7l",
        "outputId": "6c115045-b5b3-4a28-c011-b246222e413f"
      },
      "source": [
        "hd.isna().any()"
      ],
      "execution_count": 7,
      "outputs": [
        {
          "output_type": "execute_result",
          "data": {
            "text/plain": [
              "Année                                    False\n",
              "Débit mesuré maximal annuel (en m3/s)    False\n",
              "Hauteur associée mesurée (en m)           True\n",
              "dtype: bool"
            ]
          },
          "metadata": {
            "tags": []
          },
          "execution_count": 7
        }
      ]
    },
    {
      "cell_type": "code",
      "metadata": {
        "colab": {
          "base_uri": "https://localhost:8080/"
        },
        "id": "FiMecOL3UoqP",
        "outputId": "4e00fa8e-c4a8-4dba-ab11-73a3ad5152f1"
      },
      "source": [
        "hd.isna().sum()"
      ],
      "execution_count": 8,
      "outputs": [
        {
          "output_type": "execute_result",
          "data": {
            "text/plain": [
              "Année                                     0\n",
              "Débit mesuré maximal annuel (en m3/s)     0\n",
              "Hauteur associée mesurée (en m)          26\n",
              "dtype: int64"
            ]
          },
          "metadata": {
            "tags": []
          },
          "execution_count": 8
        }
      ]
    },
    {
      "cell_type": "code",
      "metadata": {
        "colab": {
          "base_uri": "https://localhost:8080/"
        },
        "id": "WuFqe07oUskV",
        "outputId": "f33a4f0a-4b9d-460f-edc2-78e79c08eec2"
      },
      "source": [
        "!pip3 install openturns"
      ],
      "execution_count": 9,
      "outputs": [
        {
          "output_type": "stream",
          "text": [
            "Collecting openturns\n",
            "\u001b[?25l  Downloading https://files.pythonhosted.org/packages/92/17/440c3d6aef8cacae09a19118e681920c9fc5c1312c3bb94eab738f71b5ec/openturns-1.17-cp37-cp37m-manylinux1_x86_64.whl (48.0MB)\n",
            "\u001b[K     |████████████████████████████████| 48.0MB 80kB/s \n",
            "\u001b[?25hInstalling collected packages: openturns\n",
            "Successfully installed openturns-1.17\n"
          ],
          "name": "stdout"
        }
      ]
    },
    {
      "cell_type": "code",
      "metadata": {
        "id": "0eWixfRGZKNO"
      },
      "source": [
        "import openturns"
      ],
      "execution_count": 10,
      "outputs": []
    },
    {
      "cell_type": "code",
      "metadata": {
        "colab": {
          "base_uri": "https://localhost:8080/"
        },
        "id": "4DtaHpkdbGLS",
        "outputId": "a3b5d7ea-e3ba-4f57-b77b-eae12b3a1a3f"
      },
      "source": [
        "print(fm)"
      ],
      "execution_count": 13,
      "outputs": [
        {
          "output_type": "stream",
          "text": [
            "<openturns.usecases.flood_model.FloodModel object at 0x7f405890fbd0>\n"
          ],
          "name": "stdout"
        }
      ]
    },
    {
      "cell_type": "code",
      "metadata": {
        "colab": {
          "base_uri": "https://localhost:8080/"
        },
        "id": "zKd7fiugbaqt",
        "outputId": "a3f57113-a9c5-48c1-9877-508078f495c7"
      },
      "source": [
        "fm.B"
      ],
      "execution_count": 14,
      "outputs": [
        {
          "output_type": "execute_result",
          "data": {
            "text/plain": [
              "300.0"
            ]
          },
          "metadata": {
            "tags": []
          },
          "execution_count": 14
        }
      ]
    },
    {
      "cell_type": "code",
      "metadata": {
        "colab": {
          "base_uri": "https://localhost:8080/",
          "height": 46
        },
        "id": "nJb7bpSjbjOm",
        "outputId": "b7f93651-0191-417a-8770-3b3e3b16c4f0"
      },
      "source": [
        "fm.model"
      ],
      "execution_count": 15,
      "outputs": [
        {
          "output_type": "execute_result",
          "data": {
            "text/html": [
              "<p>[Q,Ks,Zv,Zm]->[(Q/(Ks*300.*sqrt((Zm-Zv)/5000)))^(3.0/5.0)+Zv-58.5]</p>"
            ],
            "text/plain": [
              "class=SymbolicFunction name=Unnamed implementation=class=FunctionImplementation name=Unnamed description=[Q,Ks,Zv,Zm,y0] evaluationImplementation=class=SymbolicEvaluation name=Unnamed inputVariablesNames=[Q,Ks,Zv,Zm] outputVariablesNames=[y0] formulas=[(Q/(Ks*300.*sqrt((Zm-Zv)/5000)))^(3.0/5.0)+Zv-58.5] gradientImplementation=class=SymbolicGradient name=Unnamed evaluation=class=SymbolicEvaluation name=Unnamed inputVariablesNames=[Q,Ks,Zv,Zm] outputVariablesNames=[y0] formulas=[(Q/(Ks*300.*sqrt((Zm-Zv)/5000)))^(3.0/5.0)+Zv-58.5] hessianImplementation=class=SymbolicHessian name=Unnamed evaluation=class=SymbolicEvaluation name=Unnamed inputVariablesNames=[Q,Ks,Zv,Zm] outputVariablesNames=[y0] formulas=[(Q/(Ks*300.*sqrt((Zm-Zv)/5000)))^(3.0/5.0)+Zv-58.5]"
            ]
          },
          "metadata": {
            "tags": []
          },
          "execution_count": 15
        }
      ]
    },
    {
      "cell_type": "code",
      "metadata": {
        "colab": {
          "base_uri": "https://localhost:8080/",
          "height": 63
        },
        "id": "30Cgm_CabnEu",
        "outputId": "4edb9b62-aca7-4818-ed67-425f946a0a33"
      },
      "source": [
        "fm.distribution"
      ],
      "execution_count": 18,
      "outputs": [
        {
          "output_type": "execute_result",
          "data": {
            "text/html": [
              "<p>ComposedDistribution(TruncatedDistribution(Gumbel(beta = 558, gamma = 1013), bounds = [0, (19000.8) +inf[), TruncatedDistribution(Normal(mu = 30, sigma = 7.5), bounds = [0, (87.3797) +inf[), Uniform(a = 49, b = 51), Uniform(a = 54, b = 56), IndependentCopula(dimension = 4))</p>"
            ],
            "text/plain": [
              "class=ComposedDistribution name=ComposedDistribution dimension=4 copula=class=IndependentCopula name=IndependentCopula dimension=4 marginal[0]=class=TruncatedDistribution name=Q distribution=class=Gumbel name=Gumbel dimension=1 beta=558 gamma=1013 bounds=class=Interval name=Unnamed dimension=1 lower bound=class=Point name=Unnamed dimension=1 values=[0] upper bound=class=Point name=Unnamed dimension=1 values=[19000.8] finite lower bound=[1] finite upper bound=[0] thresholdRealization=0.5 marginal[1]=class=TruncatedDistribution name=Ks distribution=class=Normal name=Normal dimension=1 mean=class=Point name=Unnamed dimension=1 values=[30] sigma=class=Point name=Unnamed dimension=1 values=[7.5] correlationMatrix=class=CorrelationMatrix dimension=1 implementation=class=MatrixImplementation name=Unnamed rows=1 columns=1 values=[1] bounds=class=Interval name=Unnamed dimension=1 lower bound=class=Point name=Unnamed dimension=1 values=[0] upper bound=class=Point name=Unnamed dimension=1 values=[87.3797] finite lower bound=[1] finite upper bound=[0] thresholdRealization=0.5 marginal[2]=class=Uniform name=Zv dimension=1 a=49 b=51 marginal[3]=class=Uniform name=Zm dimension=1 a=54 b=56"
            ]
          },
          "metadata": {
            "tags": []
          },
          "execution_count": 18
        }
      ]
    },
    {
      "cell_type": "code",
      "metadata": {
        "colab": {
          "base_uri": "https://localhost:8080/"
        },
        "id": "nOLkpTysbqKV",
        "outputId": "5185269d-a0c2-459d-c93d-9f9f03a46e20"
      },
      "source": [
        "print(fm.B, fm.Q, fm.Ks, fm.L, fm.model, fm.Zm, fm.Zv)"
      ],
      "execution_count": 20,
      "outputs": [
        {
          "output_type": "stream",
          "text": [
            "300.0 TruncatedDistribution(Gumbel(beta = 558, gamma = 1013), bounds = [0, (19000.8) +inf[) TruncatedDistribution(Normal(mu = 30, sigma = 7.5), bounds = [0, (87.3797) +inf[) 5000.0 [Q,Ks,Zv,Zm]->[(Q/(Ks*300.*sqrt((Zm-Zv)/5000)))^(3.0/5.0)+Zv-58.5] Uniform(a = 54, b = 56) Uniform(a = 49, b = 51)\n"
          ],
          "name": "stdout"
        }
      ]
    },
    {
      "cell_type": "code",
      "metadata": {
        "id": "08SoN1pJb9bA"
      },
      "source": [
        "from openturns.viewer import View \n",
        "import openturns as ot\n",
        "from math import sqrt\n",
        "import pylab as pl"
      ],
      "execution_count": 22,
      "outputs": []
    },
    {
      "cell_type": "code",
      "metadata": {
        "id": "1cEw6QwjdWuC"
      },
      "source": [
        "def functionFlood(X):\n",
        "    Hd = 3.0\n",
        "    Zb = 55.5\n",
        "    L = 5.0e3\n",
        "    B = 300.0\n",
        "    Zd = Zb + Hd\n",
        "    Q, Ks, Zv, Zm = X\n",
        "    print(type(alpha))\n",
        "    alpha = (Zm - Zv)/L\n",
        "    H = (Q/(Ks * B * sqrt(alpha)))** (3.0/5.0) \n",
        "    Y = H + Zv\n",
        "    return [Y]\n",
        "\n",
        "input_dimension = 4\n",
        "g = ot.PythonFunction(input_dimension , 1, functionFlood)"
      ],
      "execution_count": 32,
      "outputs": []
    },
    {
      "cell_type": "code",
      "metadata": {
        "id": "J6L4gMNTf-5W"
      },
      "source": [
        "Q.setDescription([\"$Q (m^3/s)$\"])\n",
        "Ks. setDescription ([\"$Ks (m^{1/3})/s)$\"]) Zv. setDescription ([\"Zv (m)\"])\n",
        "Zm.setDescription([\"Zm (m)\"])"
      ],
      "execution_count": null,
      "outputs": []
    },
    {
      "cell_type": "code",
      "metadata": {
        "id": "HxV_ct4jjcz0"
      },
      "source": [
        "from __future__ import print_function\n",
        "import openturns as ot\n"
      ],
      "execution_count": 41,
      "outputs": []
    },
    {
      "cell_type": "code",
      "metadata": {
        "id": "A7sVSHYTjdTB"
      },
      "source": [
        "# Create the marginal distributions of the parameters\n",
        "dist_Q = ot.TruncatedDistribution(ot.Gumbel(558., 1013.), 0, ot.TruncatedDistribution.LOWER)\n",
        "dist_Ks = ot.TruncatedDistribution(ot.Normal(30.0, 7.5), 0, ot.TruncatedDistribution.LOWER)\n",
        "dist_Zv = ot.Triangular(49, 50 , 51)\n",
        "dist_Zm = ot.Triangular(54, 55 , 56)\n",
        "marginals = [dist_Q, dist_Ks, dist_Zv, dist_Zm]"
      ],
      "execution_count": 43,
      "outputs": []
    },
    {
      "cell_type": "code",
      "metadata": {
        "id": "Mivhg-qjjl-0"
      },
      "source": [
        "# Create the Copula\n",
        "RS = ot.CorrelationMatrix(4)\n",
        "#RS[2, 3] = -0.2\n",
        "# Evaluate the correlation matrix of the Normal copula from RS\n",
        "R = ot.NormalCopula.GetCorrelationFromSpearmanCorrelation(RS)\n",
        "# Create the Normal copula parametrized by R\n",
        "copula = ot.NormalCopula(R)"
      ],
      "execution_count": 44,
      "outputs": []
    },
    {
      "cell_type": "code",
      "metadata": {
        "id": "CoaPAO_Rjyac"
      },
      "source": [
        "# Create the joint probability distribution\n",
        "distribution = ot.ComposedDistribution(marginals, copula)\n",
        "distribution.setDescription(['Q', 'Ks', 'Zv', 'Zm'])"
      ],
      "execution_count": 45,
      "outputs": []
    },
    {
      "cell_type": "code",
      "metadata": {
        "id": "JNd9YTJDj0UX"
      },
      "source": [
        "# create the model\n",
        "model = ot.SymbolicFunction(['Q', 'Ks', 'Zv', 'Zm'],\n",
        "                            ['(Q/(Ks*300.*sqrt((Zm-Zv)/5000)))^(3.0/5.0)+Zv-55.5-3.'])"
      ],
      "execution_count": 46,
      "outputs": []
    },
    {
      "cell_type": "code",
      "metadata": {
        "id": "o0vSHmYKj4tY"
      },
      "source": [
        "\n",
        "# create the event we want to estimate the probability\n",
        "vect = ot.RandomVector(distribution)\n",
        "G = ot.CompositeRandomVector(model, vect)\n",
        "event = ot.ThresholdEvent(G, ot.Greater(), 0.0)\n",
        "event.setName('overflow')"
      ],
      "execution_count": 47,
      "outputs": []
    },
    {
      "cell_type": "code",
      "metadata": {
        "id": "1Qu7P1Qhj6OG"
      },
      "source": [
        "# Define a solver\n",
        "optimAlgo = ot.Cobyla()\n",
        "optimAlgo.setMaximumEvaluationNumber(1000)\n",
        "optimAlgo.setMaximumAbsoluteError(1.0e-10)\n",
        "optimAlgo.setMaximumRelativeError(1.0e-10)\n",
        "optimAlgo.setMaximumResidualError(1.0e-10)\n",
        "optimAlgo.setMaximumConstraintError(1.0e-10)\n"
      ],
      "execution_count": 48,
      "outputs": []
    },
    {
      "cell_type": "code",
      "metadata": {
        "id": "J3oWChEdj8Cs"
      },
      "source": [
        "# Run FORM\n",
        "startingPoint = distribution.getMean()\n",
        "algo = ot.FORM(optimAlgo, event, startingPoint)\n",
        "algo.run()\n",
        "result = algo.getResult()\n",
        "standardSpaceDesignPoint = result.getStandardSpaceDesignPoint()"
      ],
      "execution_count": 49,
      "outputs": []
    },
    {
      "cell_type": "code",
      "metadata": {
        "colab": {
          "base_uri": "https://localhost:8080/"
        },
        "id": "2n-HqUEKj-Ah",
        "outputId": "05bfb7e9-550b-49cc-ee8e-a9efa636ae1c"
      },
      "source": [
        "\n",
        "# retrieve results\n",
        "result = algo.getResult()\n",
        "probability = result.getEventProbability()\n",
        "print('Pf=', probability)"
      ],
      "execution_count": 50,
      "outputs": [
        {
          "output_type": "stream",
          "text": [
            "Pf= 0.0004218007300214385\n"
          ],
          "name": "stdout"
        }
      ]
    },
    {
      "cell_type": "code",
      "metadata": {
        "colab": {
          "base_uri": "https://localhost:8080/",
          "height": 417
        },
        "id": "1RzbMuECj_su",
        "outputId": "6251d18c-10eb-46a8-96f6-2b095fcd68e8"
      },
      "source": [
        "# Importance factors\n",
        "result.drawImportanceFactors()"
      ],
      "execution_count": 51,
      "outputs": [
        {
          "output_type": "execute_result",
          "data": {
            "image/png": "[encoded data removed]",
            "text/plain": [
              "class=Graph name=Unnamed implementation=class=GraphImplementation name=Unnamed title=Importance Factors from Design Point - overflow xTitle= yTitle= axes=OFF grid=OFF legendposition= legendFontSize=1 drawables=[class=Drawable name=Unnamed implementation=class=Pie name=Unnamed labels=[Q : 17.3%,Ks : 81.0%,Zv : 1.6%,Zm : 0.2%] radius=1 center=class=Point name=Unnamed dimension=2 values=[0,0] color palette=[#1f77b4,#ff7f0e,#2ca02c,#d62728] derived from class=DrawableImplementation name=Unnamed legend= data=class=Sample name=Unnamed implementation=class=SampleImplementation name=Unnamed size=4 dimension=1 data=[[0.173175],[0.809512],[0.0156735],[0.00164006]] color=blue fillStyle=solid lineStyle=solid pointStyle=plus lineWidth=1]"
            ]
          },
          "metadata": {
            "tags": []
          },
          "execution_count": 51
        }
      ]
    },
    {
      "cell_type": "markdown",
      "metadata": {
        "id": "pfoKCzskv_lo"
      },
      "source": [
        "## Ex 1: FIRST APPROACH TO SOLVING THE USE CASE – DETERMINATION OF THE DIKE HEIGHT FROM HISTORICAL MEASUREMENTS"
      ]
    },
    {
      "cell_type": "code",
      "metadata": {
        "id": "Vo7QgR5lwMCc"
      },
      "source": [
        "hd.columns = ['year', 'flow_Q', 'height_H']"
      ],
      "execution_count": 54,
      "outputs": []
    },
    {
      "cell_type": "code",
      "metadata": {
        "colab": {
          "base_uri": "https://localhost:8080/",
          "height": 204
        },
        "id": "f6RhSc4ewp8Z",
        "outputId": "473d4f9c-af40-44bf-912e-4379444f3180"
      },
      "source": [
        "hd.head()"
      ],
      "execution_count": 55,
      "outputs": [
        {
          "output_type": "execute_result",
          "data": {
            "text/html": [
              "<div>\n",
              "<style scoped>\n",
              "    .dataframe tbody tr th:only-of-type {\n",
              "        vertical-align: middle;\n",
              "    }\n",
              "\n",
              "    .dataframe tbody tr th {\n",
              "        vertical-align: top;\n",
              "    }\n",
              "\n",
              "    .dataframe thead th {\n",
              "        text-align: right;\n",
              "    }\n",
              "</style>\n",
              "<table border=\"1\" class=\"dataframe\">\n",
              "  <thead>\n",
              "    <tr style=\"text-align: right;\">\n",
              "      <th></th>\n",
              "      <th>year</th>\n",
              "      <th>flow_Q</th>\n",
              "      <th>height_H</th>\n",
              "    </tr>\n",
              "  </thead>\n",
              "  <tbody>\n",
              "    <tr>\n",
              "      <th>0</th>\n",
              "      <td>1849</td>\n",
              "      <td>3853.892756</td>\n",
              "      <td>NaN</td>\n",
              "    </tr>\n",
              "    <tr>\n",
              "      <th>1</th>\n",
              "      <td>1850</td>\n",
              "      <td>1256.402143</td>\n",
              "      <td>4.0</td>\n",
              "    </tr>\n",
              "    <tr>\n",
              "      <th>2</th>\n",
              "      <td>1851</td>\n",
              "      <td>1648.542191</td>\n",
              "      <td>4.5</td>\n",
              "    </tr>\n",
              "    <tr>\n",
              "      <th>3</th>\n",
              "      <td>1852</td>\n",
              "      <td>1604.857094</td>\n",
              "      <td>4.3</td>\n",
              "    </tr>\n",
              "    <tr>\n",
              "      <th>4</th>\n",
              "      <td>1853</td>\n",
              "      <td>341.157419</td>\n",
              "      <td>1.7</td>\n",
              "    </tr>\n",
              "  </tbody>\n",
              "</table>\n",
              "</div>"
            ],
            "text/plain": [
              "   year       flow_Q  height_H\n",
              "0  1849  3853.892756       NaN\n",
              "1  1850  1256.402143       4.0\n",
              "2  1851  1648.542191       4.5\n",
              "3  1852  1604.857094       4.3\n",
              "4  1853   341.157419       1.7"
            ]
          },
          "metadata": {
            "tags": []
          },
          "execution_count": 55
        }
      ]
    },
    {
      "cell_type": "markdown",
      "metadata": {
        "id": "6e6Wi8Z7w9B0"
      },
      "source": [
        "### First approach: Listwise deletion\n"
      ]
    },
    {
      "cell_type": "code",
      "metadata": {
        "colab": {
          "base_uri": "https://localhost:8080/",
          "height": 181
        },
        "id": "U_RYnp__wrEY",
        "outputId": "9ab1ddee-7666-4ac6-9399-829ca4006c23"
      },
      "source": [
        "hd_listwise = hd.dropna(inplace=True)\n",
        "hd_listwise.head()"
      ],
      "execution_count": 58,
      "outputs": [
        {
          "output_type": "error",
          "ename": "AttributeError",
          "evalue": "ignored",
          "traceback": [
            "\u001b[0;31m---------------------------------------------------------------------------\u001b[0m",
            "\u001b[0;31mAttributeError\u001b[0m                            Traceback (most recent call last)",
            "\u001b[0;32m<ipython-input-58-0169be0cc156>\u001b[0m in \u001b[0;36m<module>\u001b[0;34m()\u001b[0m\n\u001b[1;32m      1\u001b[0m \u001b[0mhd_listwise\u001b[0m \u001b[0;34m=\u001b[0m \u001b[0mhd\u001b[0m\u001b[0;34m.\u001b[0m\u001b[0mdropna\u001b[0m\u001b[0;34m(\u001b[0m\u001b[0minplace\u001b[0m\u001b[0;34m=\u001b[0m\u001b[0;32mTrue\u001b[0m\u001b[0;34m)\u001b[0m\u001b[0;34m\u001b[0m\u001b[0;34m\u001b[0m\u001b[0m\n\u001b[0;32m----> 2\u001b[0;31m \u001b[0mhd_listwise\u001b[0m\u001b[0;34m.\u001b[0m\u001b[0mhead\u001b[0m\u001b[0;34m(\u001b[0m\u001b[0;34m)\u001b[0m\u001b[0;34m\u001b[0m\u001b[0;34m\u001b[0m\u001b[0m\n\u001b[0m",
            "\u001b[0;31mAttributeError\u001b[0m: 'NoneType' object has no attribute 'head'"
          ]
        }
      ]
    },
    {
      "cell_type": "code",
      "metadata": {
        "id": "ZjMxqJ5jx9Et"
      },
      "source": [
        "hd.dropna(inplace=True)"
      ],
      "execution_count": 63,
      "outputs": []
    },
    {
      "cell_type": "code",
      "metadata": {
        "colab": {
          "base_uri": "https://localhost:8080/",
          "height": 419
        },
        "id": "y3i6M-RuyAeN",
        "outputId": "f5a9f2dd-2d96-452a-a753-5f9316e31b0b"
      },
      "source": [
        "hd"
      ],
      "execution_count": 64,
      "outputs": [
        {
          "output_type": "execute_result",
          "data": {
            "text/html": [
              "<div>\n",
              "<style scoped>\n",
              "    .dataframe tbody tr th:only-of-type {\n",
              "        vertical-align: middle;\n",
              "    }\n",
              "\n",
              "    .dataframe tbody tr th {\n",
              "        vertical-align: top;\n",
              "    }\n",
              "\n",
              "    .dataframe thead th {\n",
              "        text-align: right;\n",
              "    }\n",
              "</style>\n",
              "<table border=\"1\" class=\"dataframe\">\n",
              "  <thead>\n",
              "    <tr style=\"text-align: right;\">\n",
              "      <th></th>\n",
              "      <th>year</th>\n",
              "      <th>flow_Q</th>\n",
              "      <th>height_H</th>\n",
              "    </tr>\n",
              "  </thead>\n",
              "  <tbody>\n",
              "    <tr>\n",
              "      <th>1</th>\n",
              "      <td>1850</td>\n",
              "      <td>1256.402143</td>\n",
              "      <td>4.0</td>\n",
              "    </tr>\n",
              "    <tr>\n",
              "      <th>2</th>\n",
              "      <td>1851</td>\n",
              "      <td>1648.542191</td>\n",
              "      <td>4.5</td>\n",
              "    </tr>\n",
              "    <tr>\n",
              "      <th>3</th>\n",
              "      <td>1852</td>\n",
              "      <td>1604.857094</td>\n",
              "      <td>4.3</td>\n",
              "    </tr>\n",
              "    <tr>\n",
              "      <th>4</th>\n",
              "      <td>1853</td>\n",
              "      <td>341.157419</td>\n",
              "      <td>1.7</td>\n",
              "    </tr>\n",
              "    <tr>\n",
              "      <th>5</th>\n",
              "      <td>1854</td>\n",
              "      <td>1148.712945</td>\n",
              "      <td>3.4</td>\n",
              "    </tr>\n",
              "    <tr>\n",
              "      <th>...</th>\n",
              "      <td>...</td>\n",
              "      <td>...</td>\n",
              "      <td>...</td>\n",
              "    </tr>\n",
              "    <tr>\n",
              "      <th>144</th>\n",
              "      <td>1993</td>\n",
              "      <td>740.178695</td>\n",
              "      <td>3.1</td>\n",
              "    </tr>\n",
              "    <tr>\n",
              "      <th>145</th>\n",
              "      <td>1994</td>\n",
              "      <td>3044.380648</td>\n",
              "      <td>7.2</td>\n",
              "    </tr>\n",
              "    <tr>\n",
              "      <th>146</th>\n",
              "      <td>1995</td>\n",
              "      <td>1127.889906</td>\n",
              "      <td>3.5</td>\n",
              "    </tr>\n",
              "    <tr>\n",
              "      <th>147</th>\n",
              "      <td>1996</td>\n",
              "      <td>522.151370</td>\n",
              "      <td>2.5</td>\n",
              "    </tr>\n",
              "    <tr>\n",
              "      <th>148</th>\n",
              "      <td>1997</td>\n",
              "      <td>642.328261</td>\n",
              "      <td>2.5</td>\n",
              "    </tr>\n",
              "  </tbody>\n",
              "</table>\n",
              "<p>123 rows × 3 columns</p>\n",
              "</div>"
            ],
            "text/plain": [
              "     year       flow_Q  height_H\n",
              "1    1850  1256.402143       4.0\n",
              "2    1851  1648.542191       4.5\n",
              "3    1852  1604.857094       4.3\n",
              "4    1853   341.157419       1.7\n",
              "5    1854  1148.712945       3.4\n",
              "..    ...          ...       ...\n",
              "144  1993   740.178695       3.1\n",
              "145  1994  3044.380648       7.2\n",
              "146  1995  1127.889906       3.5\n",
              "147  1996   522.151370       2.5\n",
              "148  1997   642.328261       2.5\n",
              "\n",
              "[123 rows x 3 columns]"
            ]
          },
          "metadata": {
            "tags": []
          },
          "execution_count": 64
        }
      ]
    },
    {
      "cell_type": "code",
      "metadata": {
        "colab": {
          "base_uri": "https://localhost:8080/"
        },
        "id": "tOVcfMUtyLKi",
        "outputId": "f82b7c2c-5115-4f69-f528-c608c9615ba2"
      },
      "source": [
        "hd.isna().sum()"
      ],
      "execution_count": 65,
      "outputs": [
        {
          "output_type": "execute_result",
          "data": {
            "text/plain": [
              "year        0\n",
              "flow_Q      0\n",
              "height_H    0\n",
              "dtype: int64"
            ]
          },
          "metadata": {
            "tags": []
          },
          "execution_count": 65
        }
      ]
    },
    {
      "cell_type": "code",
      "metadata": {
        "id": "D3Ouah3LyQ1i"
      },
      "source": [
        "import matplotlib.pyplot as plt  \n",
        "from sklearn.linear_model import LinearRegression\n",
        "from sklearn.metrics import mean_squared_error, r2_score\n",
        "from sklearn.model_selection import train_test_split\n"
      ],
      "execution_count": 75,
      "outputs": []
    },
    {
      "cell_type": "code",
      "metadata": {
        "colab": {
          "base_uri": "https://localhost:8080/",
          "height": 419
        },
        "id": "CFscWj9l0gsJ",
        "outputId": "158b40fc-76a5-43af-b904-836703e324db"
      },
      "source": [
        "hd"
      ],
      "execution_count": 70,
      "outputs": [
        {
          "output_type": "execute_result",
          "data": {
            "text/html": [
              "<div>\n",
              "<style scoped>\n",
              "    .dataframe tbody tr th:only-of-type {\n",
              "        vertical-align: middle;\n",
              "    }\n",
              "\n",
              "    .dataframe tbody tr th {\n",
              "        vertical-align: top;\n",
              "    }\n",
              "\n",
              "    .dataframe thead th {\n",
              "        text-align: right;\n",
              "    }\n",
              "</style>\n",
              "<table border=\"1\" class=\"dataframe\">\n",
              "  <thead>\n",
              "    <tr style=\"text-align: right;\">\n",
              "      <th></th>\n",
              "      <th>year</th>\n",
              "      <th>flow_Q</th>\n",
              "      <th>height_H</th>\n",
              "    </tr>\n",
              "  </thead>\n",
              "  <tbody>\n",
              "    <tr>\n",
              "      <th>1</th>\n",
              "      <td>1850</td>\n",
              "      <td>1256.402143</td>\n",
              "      <td>4.0</td>\n",
              "    </tr>\n",
              "    <tr>\n",
              "      <th>2</th>\n",
              "      <td>1851</td>\n",
              "      <td>1648.542191</td>\n",
              "      <td>4.5</td>\n",
              "    </tr>\n",
              "    <tr>\n",
              "      <th>3</th>\n",
              "      <td>1852</td>\n",
              "      <td>1604.857094</td>\n",
              "      <td>4.3</td>\n",
              "    </tr>\n",
              "    <tr>\n",
              "      <th>4</th>\n",
              "      <td>1853</td>\n",
              "      <td>341.157419</td>\n",
              "      <td>1.7</td>\n",
              "    </tr>\n",
              "    <tr>\n",
              "      <th>5</th>\n",
              "      <td>1854</td>\n",
              "      <td>1148.712945</td>\n",
              "      <td>3.4</td>\n",
              "    </tr>\n",
              "    <tr>\n",
              "      <th>...</th>\n",
              "      <td>...</td>\n",
              "      <td>...</td>\n",
              "      <td>...</td>\n",
              "    </tr>\n",
              "    <tr>\n",
              "      <th>144</th>\n",
              "      <td>1993</td>\n",
              "      <td>740.178695</td>\n",
              "      <td>3.1</td>\n",
              "    </tr>\n",
              "    <tr>\n",
              "      <th>145</th>\n",
              "      <td>1994</td>\n",
              "      <td>3044.380648</td>\n",
              "      <td>7.2</td>\n",
              "    </tr>\n",
              "    <tr>\n",
              "      <th>146</th>\n",
              "      <td>1995</td>\n",
              "      <td>1127.889906</td>\n",
              "      <td>3.5</td>\n",
              "    </tr>\n",
              "    <tr>\n",
              "      <th>147</th>\n",
              "      <td>1996</td>\n",
              "      <td>522.151370</td>\n",
              "      <td>2.5</td>\n",
              "    </tr>\n",
              "    <tr>\n",
              "      <th>148</th>\n",
              "      <td>1997</td>\n",
              "      <td>642.328261</td>\n",
              "      <td>2.5</td>\n",
              "    </tr>\n",
              "  </tbody>\n",
              "</table>\n",
              "<p>123 rows × 3 columns</p>\n",
              "</div>"
            ],
            "text/plain": [
              "     year       flow_Q  height_H\n",
              "1    1850  1256.402143       4.0\n",
              "2    1851  1648.542191       4.5\n",
              "3    1852  1604.857094       4.3\n",
              "4    1853   341.157419       1.7\n",
              "5    1854  1148.712945       3.4\n",
              "..    ...          ...       ...\n",
              "144  1993   740.178695       3.1\n",
              "145  1994  3044.380648       7.2\n",
              "146  1995  1127.889906       3.5\n",
              "147  1996   522.151370       2.5\n",
              "148  1997   642.328261       2.5\n",
              "\n",
              "[123 rows x 3 columns]"
            ]
          },
          "metadata": {
            "tags": []
          },
          "execution_count": 70
        }
      ]
    },
    {
      "cell_type": "code",
      "metadata": {
        "id": "G1qNkGLHzNoz"
      },
      "source": [
        "X = hd.iloc[:, hd.columns != 'height_H']\n",
        "Y = hd.iloc[:, 2] \n",
        "\n",
        "X_train, X_test, Y_train, Y_test = train_test_split(X, Y, test_size=0.2, random_state=42)"
      ],
      "execution_count": 71,
      "outputs": []
    },
    {
      "cell_type": "code",
      "metadata": {
        "colab": {
          "base_uri": "https://localhost:8080/"
        },
        "id": "ibnCybYo0oLu",
        "outputId": "eb453e13-08eb-416d-d057-5ae0ce89c3ef"
      },
      "source": [
        "# train the model\n",
        "model = LinearRegression()\n",
        "model.fit(X_train, Y_train)"
      ],
      "execution_count": 77,
      "outputs": [
        {
          "output_type": "execute_result",
          "data": {
            "text/plain": [
              "LinearRegression(copy_X=True, fit_intercept=True, n_jobs=None, normalize=False)"
            ]
          },
          "metadata": {
            "tags": []
          },
          "execution_count": 77
        }
      ]
    },
    {
      "cell_type": "code",
      "metadata": {
        "colab": {
          "base_uri": "https://localhost:8080/"
        },
        "id": "LH2PD70p0s8i",
        "outputId": "fa6958f7-35f5-460b-f70d-15ea3f4acee0"
      },
      "source": [
        "coeff_df = pd.DataFrame(model.coef_, X.columns, columns=['Coefficient'])\n",
        "print(coeff_df)\n",
        "type(coeff_df['Coefficient'].year)"
      ],
      "execution_count": 98,
      "outputs": [
        {
          "output_type": "stream",
          "text": [
            "        Coefficient\n",
            "year      -0.000875\n",
            "flow_Q     0.001835\n"
          ],
          "name": "stdout"
        },
        {
          "output_type": "execute_result",
          "data": {
            "text/plain": [
              "numpy.float64"
            ]
          },
          "metadata": {
            "tags": []
          },
          "execution_count": 98
        }
      ]
    },
    {
      "cell_type": "code",
      "metadata": {
        "id": "ZvgiH4HF02Vj"
      },
      "source": [
        "# predict the output\n",
        "y_pred = model.predict(X_test)"
      ],
      "execution_count": 80,
      "outputs": []
    },
    {
      "cell_type": "code",
      "metadata": {
        "colab": {
          "base_uri": "https://localhost:8080/"
        },
        "id": "tVrcFgMo05gt",
        "outputId": "5236f2ae-99b0-4c11-b17d-ad2b08528252"
      },
      "source": [
        "df = pd.DataFrame({'Actual': Y_test, 'Predicted': y_pred})\n",
        "print(df.head(10))"
      ],
      "execution_count": 81,
      "outputs": [
        {
          "output_type": "stream",
          "text": [
            "     Actual  Predicted\n",
            "19      4.0   3.855009\n",
            "66      3.9   3.879083\n",
            "68      3.6   3.446447\n",
            "110     5.4   5.224183\n",
            "5       3.4   3.685734\n",
            "47      3.5   3.609874\n",
            "83      6.4   7.367595\n",
            "126     4.1   4.009795\n",
            "38      4.8   4.324032\n",
            "76      2.5   2.651124\n"
          ],
          "name": "stdout"
        }
      ]
    },
    {
      "cell_type": "code",
      "metadata": {
        "colab": {
          "base_uri": "https://localhost:8080/",
          "height": 492
        },
        "id": "W05A9fVd0_Qb",
        "outputId": "424f5d42-835e-40b8-cfc7-c74f7edf93c1"
      },
      "source": [
        "df.plot(kind='bar',figsize=(10,8))\n",
        "plt.grid(which='major', linestyle='-', linewidth='0.5', color='green')\n",
        "plt.grid(which='minor', linestyle=':', linewidth='0.5', color='black')\n",
        "plt.show()"
      ],
      "execution_count": 82,
      "outputs": [
        {
          "output_type": "display_data",
          "data": {
            "image/png": "[encoded data removed]",
            "text/plain": [
              "<Figure size 720x576 with 1 Axes>"
            ]
          },
          "metadata": {
            "tags": [],
            "needs_background": "light"
          }
        }
      ]
    },
    {
      "cell_type": "code",
      "metadata": {
        "colab": {
          "base_uri": "https://localhost:8080/"
        },
        "id": "0gITEAGq1DSZ",
        "outputId": "df805187-afcd-426f-bc09-d5b7d4d9a2ae"
      },
      "source": [
        "# Root Mean Squared Deviation\n",
        "rmsd = np.sqrt(mean_squared_error(Y_test, y_pred))      \n",
        "r2_value = r2_score(Y_test, y_pred)                     \n",
        "\n",
        "print(\"Intercept: \\n\", model.intercept_)\n",
        "print(\"Root Mean Square Error \\n\", rmsd)\n",
        "print(\"R^2 Value: \\n\", r2_value)"
      ],
      "execution_count": 83,
      "outputs": [
        {
          "output_type": "stream",
          "text": [
            "Intercept: \n",
            " 3.1999723995145186\n",
            "Root Mean Square Error \n",
            " 0.3812561826779455\n",
            "R^2 Value: \n",
            " 0.88762595490222\n"
          ],
          "name": "stdout"
        }
      ]
    },
    {
      "cell_type": "code",
      "metadata": {
        "id": "PS1bmjwm1H1U"
      },
      "source": [
        "df = pd.read_excel('/content/drive/MyDrive/Materiais/CentraleSupélec/ST4/EI/Données-projet-EDF_2018-2019.xls')"
      ],
      "execution_count": 84,
      "outputs": []
    },
    {
      "cell_type": "code",
      "metadata": {
        "colab": {
          "base_uri": "https://localhost:8080/",
          "height": 359
        },
        "id": "k6QPhlpV2A5x",
        "outputId": "add23883-90b3-4553-df95-b0674fd27fe2"
      },
      "source": [
        "df.columns = ['year', 'flow_Q', 'height_H']\n",
        "df.head(10)"
      ],
      "execution_count": 95,
      "outputs": [
        {
          "output_type": "execute_result",
          "data": {
            "text/html": [
              "<div>\n",
              "<style scoped>\n",
              "    .dataframe tbody tr th:only-of-type {\n",
              "        vertical-align: middle;\n",
              "    }\n",
              "\n",
              "    .dataframe tbody tr th {\n",
              "        vertical-align: top;\n",
              "    }\n",
              "\n",
              "    .dataframe thead th {\n",
              "        text-align: right;\n",
              "    }\n",
              "</style>\n",
              "<table border=\"1\" class=\"dataframe\">\n",
              "  <thead>\n",
              "    <tr style=\"text-align: right;\">\n",
              "      <th></th>\n",
              "      <th>year</th>\n",
              "      <th>flow_Q</th>\n",
              "      <th>height_H</th>\n",
              "    </tr>\n",
              "  </thead>\n",
              "  <tbody>\n",
              "    <tr>\n",
              "      <th>0</th>\n",
              "      <td>1849</td>\n",
              "      <td>3853.892756</td>\n",
              "      <td>NaN</td>\n",
              "    </tr>\n",
              "    <tr>\n",
              "      <th>1</th>\n",
              "      <td>1850</td>\n",
              "      <td>1256.402143</td>\n",
              "      <td>4.0</td>\n",
              "    </tr>\n",
              "    <tr>\n",
              "      <th>2</th>\n",
              "      <td>1851</td>\n",
              "      <td>1648.542191</td>\n",
              "      <td>4.5</td>\n",
              "    </tr>\n",
              "    <tr>\n",
              "      <th>3</th>\n",
              "      <td>1852</td>\n",
              "      <td>1604.857094</td>\n",
              "      <td>4.3</td>\n",
              "    </tr>\n",
              "    <tr>\n",
              "      <th>4</th>\n",
              "      <td>1853</td>\n",
              "      <td>341.157419</td>\n",
              "      <td>1.7</td>\n",
              "    </tr>\n",
              "    <tr>\n",
              "      <th>5</th>\n",
              "      <td>1854</td>\n",
              "      <td>1148.712945</td>\n",
              "      <td>3.4</td>\n",
              "    </tr>\n",
              "    <tr>\n",
              "      <th>6</th>\n",
              "      <td>1855</td>\n",
              "      <td>868.271497</td>\n",
              "      <td>3.4</td>\n",
              "    </tr>\n",
              "    <tr>\n",
              "      <th>7</th>\n",
              "      <td>1856</td>\n",
              "      <td>1147.880794</td>\n",
              "      <td>4.1</td>\n",
              "    </tr>\n",
              "    <tr>\n",
              "      <th>8</th>\n",
              "      <td>1857</td>\n",
              "      <td>1227.466678</td>\n",
              "      <td>4.1</td>\n",
              "    </tr>\n",
              "    <tr>\n",
              "      <th>9</th>\n",
              "      <td>1858</td>\n",
              "      <td>1990.668281</td>\n",
              "      <td>5.3</td>\n",
              "    </tr>\n",
              "  </tbody>\n",
              "</table>\n",
              "</div>"
            ],
            "text/plain": [
              "   year       flow_Q  height_H\n",
              "0  1849  3853.892756       NaN\n",
              "1  1850  1256.402143       4.0\n",
              "2  1851  1648.542191       4.5\n",
              "3  1852  1604.857094       4.3\n",
              "4  1853   341.157419       1.7\n",
              "5  1854  1148.712945       3.4\n",
              "6  1855   868.271497       3.4\n",
              "7  1856  1147.880794       4.1\n",
              "8  1857  1227.466678       4.1\n",
              "9  1858  1990.668281       5.3"
            ]
          },
          "metadata": {
            "tags": []
          },
          "execution_count": 95
        }
      ]
    },
    {
      "cell_type": "code",
      "metadata": {
        "id": "d5FBAKI63d8U"
      },
      "source": [
        "df['height_H'].interpolate(method='linear', inplace=True, limit_direction=\"both\")"
      ],
      "execution_count": 99,
      "outputs": []
    },
    {
      "cell_type": "code",
      "metadata": {
        "id": "iY2Et11E26V4"
      },
      "source": [
        ""
      ],
      "execution_count": null,
      "outputs": []
    }
  ]
}