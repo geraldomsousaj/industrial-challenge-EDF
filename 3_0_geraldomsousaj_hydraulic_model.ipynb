{
  "nbformat": 4,
  "nbformat_minor": 0,
  "metadata": {
    "colab": {
      "name": "3.0-geraldomsousaj-hydraulic-model.ipynb",
      "provenance": [],
      "collapsed_sections": [],
      "authorship_tag": "ABX9TyMvSM02U2vPjNq7QO/AY201",
      "include_colab_link": true
    },
    "kernelspec": {
      "name": "python3",
      "display_name": "Python 3"
    },
    "language_info": {
      "name": "python"
    }
  },
  "cells": [
    {
      "cell_type": "markdown",
      "metadata": {
        "id": "view-in-github",
        "colab_type": "text"
      },
      "source": [
        "<a href=\"https://colab.research.google.com/github/geraldomsousaj/industrial-challenge-EDF/blob/importanceFactor/3_0_geraldomsousaj_hydraulic_model.ipynb\" target=\"_parent\"><img src=\"https://colab.research.google.com/assets/colab-badge.svg\" alt=\"Open In Colab\"/></a>"
      ]
    },
    {
      "cell_type": "code",
      "metadata": {
        "colab": {
          "base_uri": "https://localhost:8080/"
        },
        "id": "fRJ5VIFFhHbx",
        "outputId": "6df8794b-62d7-4819-e93f-6377520f38a4"
      },
      "source": [
        "!pip install openturns \n",
        "import pandas as pd\n",
        "import numpy as np\n",
        "import openturns as ot"
      ],
      "execution_count": 1,
      "outputs": [
        {
          "output_type": "stream",
          "text": [
            "Requirement already satisfied: openturns in /usr/local/lib/python3.7/dist-packages (1.17)\n"
          ],
          "name": "stdout"
        }
      ]
    },
    {
      "cell_type": "markdown",
      "metadata": {
        "id": "yffyQ8gUxQ5a"
      },
      "source": [
        "# 1. Simulating"
      ]
    },
    {
      "cell_type": "code",
      "metadata": {
        "id": "aQSGcApbhbMn"
      },
      "source": [
        "# defining the constants\n",
        "L = 5000 # length of section (m)\n",
        "B = 300 # watercourse width (m)\n",
        "Zb = 55.5 # shoreline elevation (m)"
      ],
      "execution_count": 2,
      "outputs": []
    },
    {
      "cell_type": "code",
      "metadata": {
        "id": "wAMC6YL8sNDr"
      },
      "source": [
        "def function_flood(X):\n",
        "    Q, Ks, Zv, Zm = X\n",
        "    alpha = (Zm - Zv)/L\n",
        "    H = (Q/(Ks * B * np.sqrt(alpha)))** (3.0/5.0) \n",
        "    S = H + Zv - Zb\n",
        "    return [S]\n",
        "\n",
        "input_dimension = 4\n",
        "g = ot.PythonFunction(input_dimension , 1, function_flood)"
      ],
      "execution_count": 3,
      "outputs": []
    },
    {
      "cell_type": "code",
      "metadata": {
        "id": "yBk3dHDftYvS"
      },
      "source": [
        "# Create the marginal distributions of the parameters\n",
        "dist_Q = ot.TruncatedDistribution(ot.Gumbel(558., 1013.), 0, ot.TruncatedDistribution.LOWER)\n",
        "dist_Ks = ot.TruncatedDistribution(ot.Normal(30.0, 7.5), 0, ot.TruncatedDistribution.LOWER)\n",
        "dist_Zv = ot.Triangular(49, 50 , 51)\n",
        "dist_Zm = ot.Triangular(54, 55 , 56)"
      ],
      "execution_count": 4,
      "outputs": []
    },
    {
      "cell_type": "code",
      "metadata": {
        "id": "lHGDoq6Btf1k"
      },
      "source": [
        "X = ot.ComposedDistribution([dist_Q, dist_Ks, dist_Zv, dist_Zm])\n",
        "inputRV = ot.RandomVector(X)"
      ],
      "execution_count": 5,
      "outputs": []
    },
    {
      "cell_type": "code",
      "metadata": {
        "id": "HQnCJxnm3slH"
      },
      "source": [
        "# Run simulations\n",
        "N = 100000\n",
        "S = []\n",
        "for i in range(N):\n",
        "    S.append(function_flood(inputRV.getRealization()))"
      ],
      "execution_count": 6,
      "outputs": []
    },
    {
      "cell_type": "code",
      "metadata": {
        "colab": {
          "base_uri": "https://localhost:8080/"
        },
        "id": "xeuqsQ8-AtPm",
        "outputId": "1923b486-5e32-464d-9532-2b13df24a096"
      },
      "source": [
        "S_df = pd.DataFrame(S, columns=['S'])\n",
        "print('% of positive values: ' + str(S_df[S_df['S'] > 0].shape[0] / N *100)+\"%\")"
      ],
      "execution_count": 7,
      "outputs": [
        {
          "output_type": "stream",
          "text": [
            "% of positive values: 1.18%\n"
          ],
          "name": "stdout"
        }
      ]
    },
    {
      "cell_type": "code",
      "metadata": {
        "id": "h1y1Ibv7BIoY"
      },
      "source": [
        "df2 = S_df[S_df['S'] > 0]  "
      ],
      "execution_count": 8,
      "outputs": []
    },
    {
      "cell_type": "code",
      "metadata": {
        "colab": {
          "base_uri": "https://localhost:8080/",
          "height": 669
        },
        "id": "Rpiz37gBBZJt",
        "outputId": "3d19d96f-5e92-40c1-a1e8-f15452dc71d0"
      },
      "source": [
        "df2.sort_values(by='S', ascending=False).head(20)"
      ],
      "execution_count": 9,
      "outputs": [
        {
          "output_type": "execute_result",
          "data": {
            "text/html": [
              "<div>\n",
              "<style scoped>\n",
              "    .dataframe tbody tr th:only-of-type {\n",
              "        vertical-align: middle;\n",
              "    }\n",
              "\n",
              "    .dataframe tbody tr th {\n",
              "        vertical-align: top;\n",
              "    }\n",
              "\n",
              "    .dataframe thead th {\n",
              "        text-align: right;\n",
              "    }\n",
              "</style>\n",
              "<table border=\"1\" class=\"dataframe\">\n",
              "  <thead>\n",
              "    <tr style=\"text-align: right;\">\n",
              "      <th></th>\n",
              "      <th>S</th>\n",
              "    </tr>\n",
              "  </thead>\n",
              "  <tbody>\n",
              "    <tr>\n",
              "      <th>44871</th>\n",
              "      <td>26.261403</td>\n",
              "    </tr>\n",
              "    <tr>\n",
              "      <th>31510</th>\n",
              "      <td>19.380357</td>\n",
              "    </tr>\n",
              "    <tr>\n",
              "      <th>69886</th>\n",
              "      <td>12.032397</td>\n",
              "    </tr>\n",
              "    <tr>\n",
              "      <th>53839</th>\n",
              "      <td>9.960293</td>\n",
              "    </tr>\n",
              "    <tr>\n",
              "      <th>37320</th>\n",
              "      <td>9.552282</td>\n",
              "    </tr>\n",
              "    <tr>\n",
              "      <th>11143</th>\n",
              "      <td>8.449689</td>\n",
              "    </tr>\n",
              "    <tr>\n",
              "      <th>53743</th>\n",
              "      <td>7.441275</td>\n",
              "    </tr>\n",
              "    <tr>\n",
              "      <th>85957</th>\n",
              "      <td>7.385330</td>\n",
              "    </tr>\n",
              "    <tr>\n",
              "      <th>97123</th>\n",
              "      <td>6.827439</td>\n",
              "    </tr>\n",
              "    <tr>\n",
              "      <th>95301</th>\n",
              "      <td>5.584294</td>\n",
              "    </tr>\n",
              "    <tr>\n",
              "      <th>66589</th>\n",
              "      <td>5.341818</td>\n",
              "    </tr>\n",
              "    <tr>\n",
              "      <th>82852</th>\n",
              "      <td>5.294709</td>\n",
              "    </tr>\n",
              "    <tr>\n",
              "      <th>19327</th>\n",
              "      <td>4.995723</td>\n",
              "    </tr>\n",
              "    <tr>\n",
              "      <th>94050</th>\n",
              "      <td>4.967943</td>\n",
              "    </tr>\n",
              "    <tr>\n",
              "      <th>78784</th>\n",
              "      <td>4.730462</td>\n",
              "    </tr>\n",
              "    <tr>\n",
              "      <th>2332</th>\n",
              "      <td>4.285839</td>\n",
              "    </tr>\n",
              "    <tr>\n",
              "      <th>31709</th>\n",
              "      <td>4.256427</td>\n",
              "    </tr>\n",
              "    <tr>\n",
              "      <th>9290</th>\n",
              "      <td>4.184411</td>\n",
              "    </tr>\n",
              "    <tr>\n",
              "      <th>67265</th>\n",
              "      <td>4.182214</td>\n",
              "    </tr>\n",
              "    <tr>\n",
              "      <th>86579</th>\n",
              "      <td>4.131253</td>\n",
              "    </tr>\n",
              "  </tbody>\n",
              "</table>\n",
              "</div>"
            ],
            "text/plain": [
              "               S\n",
              "44871  26.261403\n",
              "31510  19.380357\n",
              "69886  12.032397\n",
              "53839   9.960293\n",
              "37320   9.552282\n",
              "11143   8.449689\n",
              "53743   7.441275\n",
              "85957   7.385330\n",
              "97123   6.827439\n",
              "95301   5.584294\n",
              "66589   5.341818\n",
              "82852   5.294709\n",
              "19327   4.995723\n",
              "94050   4.967943\n",
              "78784   4.730462\n",
              "2332    4.285839\n",
              "31709   4.256427\n",
              "9290    4.184411\n",
              "67265   4.182214\n",
              "86579   4.131253"
            ]
          },
          "metadata": {
            "tags": []
          },
          "execution_count": 9
        }
      ]
    },
    {
      "cell_type": "code",
      "metadata": {
        "colab": {
          "base_uri": "https://localhost:8080/"
        },
        "id": "vQV9OtL8nugW",
        "outputId": "9766a5db-df1a-4bbc-c6ef-e8cac5ae0e24"
      },
      "source": [
        "q = [0.95, 0.96, 0.965, 0.97, 0.975, 0.98, 0.985, 0.99, 0.995, 0.996, 0.997, 0.998]\n",
        "for i in q:\n",
        "    print('Quantile {}%: {:0.4f}'.format(i*100, df2.quantile(i).S))\n"
      ],
      "execution_count": 10,
      "outputs": [
        {
          "output_type": "stream",
          "text": [
            "Quantile 95.0%: 2.5694\n",
            "Quantile 96.0%: 2.8290\n",
            "Quantile 96.5%: 2.9600\n",
            "Quantile 97.0%: 3.2717\n",
            "Quantile 97.5%: 3.5275\n",
            "Quantile 98.0%: 3.9323\n",
            "Quantile 98.5%: 4.1829\n",
            "Quantile 99.0%: 5.0585\n",
            "Quantile 99.5%: 7.5472\n",
            "Quantile 99.6%: 8.7628\n",
            "Quantile 99.7%: 9.7412\n",
            "Quantile 99.8%: 11.2906\n"
          ],
          "name": "stdout"
        }
      ]
    },
    {
      "cell_type": "markdown",
      "metadata": {
        "id": "HpfLleA0xNnT"
      },
      "source": [
        "# 2. Distribution Fit"
      ]
    },
    {
      "cell_type": "code",
      "metadata": {
        "colab": {
          "base_uri": "https://localhost:8080/",
          "height": 1000
        },
        "id": "EcNVder5xHdM",
        "outputId": "10cc3f46-1e12-4494-ade0-29b57bb864e7"
      },
      "source": [
        "%matplotlib inline\n",
        "\n",
        "import warnings\n",
        "import numpy as np\n",
        "import pandas as pd\n",
        "import scipy.stats as st\n",
        "import statsmodels as sm\n",
        "import matplotlib\n",
        "import matplotlib.pyplot as plt\n",
        "\n",
        "matplotlib.rcParams['figure.figsize'] = (16.0, 12.0)\n",
        "matplotlib.style.use('ggplot')\n",
        "\n",
        "print('##### P(EXTREME EVENT) = 1 - F(THRESHOLD) #####')\n",
        "\n",
        "# Create models from data\n",
        "def best_fit_distribution(data, bins=200, ax=None):\n",
        "    \"\"\"Model data by finding best fit distribution to data\"\"\"\n",
        "    # Get histogram of original data\n",
        "    y, x = np.histogram(data, bins=bins, density=True)\n",
        "    x = (x + np.roll(x, -1))[:-1] / 2.0\n",
        "\n",
        "    # Distributions to check\n",
        "    DISTRIBUTIONS = [        \n",
        "        st.dweibull,\n",
        "        st.exponweib,\n",
        "        st.frechet_r,\n",
        "        st.gumbel_r,\n",
        "        st.gumbel_l,\n",
        "        st.invweibull\n",
        "    ]\n",
        "\n",
        "    # DISTRIBUTIONS = [st.gumbel_r, st.gumbel_l]\n",
        "\n",
        "    # Best holders\n",
        "    best_distribution = st.norm\n",
        "    best_params = (0.0, 1.0)\n",
        "    best_sse = np.inf\n",
        "\n",
        "    # Estimate distribution parameters from data\n",
        "    for distribution in DISTRIBUTIONS:\n",
        "\n",
        "        # Try to fit the distribution\n",
        "        try:\n",
        "            # Ignore warnings from data that can't be fit\n",
        "            with warnings.catch_warnings():\n",
        "                warnings.filterwarnings('ignore')\n",
        "\n",
        "                # fit dist to data\n",
        "                params = distribution.fit(data)\n",
        "\n",
        "                # Separate parts of parameters\n",
        "                arg = params[:-2]\n",
        "                loc = params[-2]\n",
        "                scale = params[-1]\n",
        "\n",
        "                # Calculate fitted PDF and error with fit in distribution\n",
        "                pdf = distribution.pdf(x, loc=loc, scale=scale, *arg)\n",
        "                sse = np.sum(np.power(y - pdf, 2.0))\n",
        "\n",
        "                # if axis pass in add to plot\n",
        "                try:\n",
        "                    if ax:\n",
        "                        pd.Series(pdf, x).plot(ax=ax)\n",
        "                    end\n",
        "                except Exception:\n",
        "                    pass\n",
        "                \n",
        "                # print parameters and cdf for extreme events : P(S > THRESHOLD)\n",
        "                cdf = distribution.cdf(0, loc=loc, scale=scale, *arg)\n",
        "\n",
        "                print(distribution.name, ' : ', (1-cdf)*100, '%')\n",
        "\n",
        "                # identify if this distribution is better\n",
        "                if best_sse > sse > 0:\n",
        "                    best_distribution = distribution\n",
        "                    best_params = params\n",
        "                    best_sse = sse\n",
        "\n",
        "        except Exception:\n",
        "            pass\n",
        "\n",
        "    return (best_distribution.name, best_params)\n",
        "\n",
        "def make_pdf(dist, params, size=10000):\n",
        "    \"\"\"Generate distributions's Probability Distribution Function \"\"\"\n",
        "    print(params)\n",
        "    # Separate parts of parameters\n",
        "    arg = params[:-2]\n",
        "    loc = params[-2]\n",
        "    scale = params[-1]\n",
        "\n",
        "    # Get sane start and end points of distribution\n",
        "    start = dist.ppf(0.01, *arg, loc=loc, scale=scale) if arg else dist.ppf(0.01, loc=loc, scale=scale)\n",
        "    end = dist.ppf(0.99, *arg, loc=loc, scale=scale) if arg else dist.ppf(0.99, loc=loc, scale=scale)\n",
        "\n",
        "    # Build PDF and turn into pandas Series\n",
        "    x = np.linspace(start, end, size)\n",
        "    y = dist.pdf(x, loc=loc, scale=scale, *arg)\n",
        "    pdf = pd.Series(y, x)\n",
        "\n",
        "    return pdf\n",
        "\n",
        "# Load data \n",
        "data = S_df['S']\n",
        "\n",
        "# Plot for comparison\n",
        "plt.figure(figsize=(12,8))\n",
        "ax = data.plot(kind='hist', bins=9, alpha=0.5, density=True, lw=2)\n",
        "# Save plot limits\n",
        "dataYLim = ax.get_ylim()\n",
        "\n",
        "# Find best fit distribution\n",
        "best_fit_name, best_fit_params = best_fit_distribution(data, 200, ax)\n",
        "best_dist = getattr(st, best_fit_name)\n",
        "\n",
        "# Update plots\n",
        "ax.set_ylim(dataYLim)\n",
        "ax.set_title(u'Height H\\n All Fitted Distributions')\n",
        "ax.set_xlabel(u'H (m)')\n",
        "ax.set_ylabel('Frequency')\n",
        "\n",
        "# Make PDF with best params \n",
        "pdf = make_pdf(best_dist, best_fit_params)\n",
        "\n",
        "weights = np.ones_like(data)/float(len(data))\n",
        "\n",
        "# Display\n",
        "plt.figure(figsize=(12,8))\n",
        "ax = pdf.plot(lw=2, label='PDF', legend=True)\n",
        "data.plot(kind='hist', bins=9, density=True, alpha=0.5, label='Data', legend=True, ax=ax)\n",
        "\n",
        "param_names = (best_dist.shapes + ', loc, scale').split(', ') if best_dist.shapes else ['loc', 'scale']\n",
        "param_str = ', '.join(['{}={:0.2f}'.format(k,v) for k,v in zip(param_names, best_fit_params)])\n",
        "dist_str = '{}({})'.format(best_fit_name, param_str)\n",
        "\n",
        "ax.set_title(u'Height H with best fit distribution \\n' + dist_str)\n",
        "ax.set_xlabel(u'H (m)')\n",
        "ax.set_ylabel('Frequency')"
      ],
      "execution_count": 34,
      "outputs": [
        {
          "output_type": "stream",
          "text": [
            "##### P(EXTREME EVENT) = 1 - F(THRESHOLD) #####\n",
            "dweibull  :  0.6411579767591657 %\n",
            "exponweib  :  1.0787971240006078 %\n",
            "frechet_r  :  3.302447772259798 %\n",
            "gumbel_r  :  2.3727923839858223 %\n",
            "gumbel_l  :  11.616407747012381 %\n",
            "invweibull  :  1.9847405052455747 %\n",
            "(4.146226459660971, 1.7166136949009747, -6.256661709254427, 2.2144399455549544)\n"
          ],
          "name": "stdout"
        },
        {
          "output_type": "execute_result",
          "data": {
            "text/plain": [
              "Text(0, 0.5, 'Frequency')"
            ]
          },
          "metadata": {
            "tags": []
          },
          "execution_count": 34
        },
        {
          "output_type": "display_data",
          "data": {
            "image/png": "[encoded data removed]",
            "text/plain": [
              "<Figure size 864x576 with 1 Axes>"
            ]
          },
          "metadata": {
            "tags": []
          }
        },
        {
          "output_type": "display_data",
          "data": {
            "image/png": "[encoded data removed]",
            "text/plain": [
              "<Figure size 864x576 with 1 Axes>"
            ]
          },
          "metadata": {
            "tags": []
          }
        }
      ]
    }
  ]
}