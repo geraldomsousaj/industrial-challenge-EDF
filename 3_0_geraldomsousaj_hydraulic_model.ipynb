{
  "nbformat": 4,
  "nbformat_minor": 0,
  "metadata": {
    "colab": {
      "name": "3.0-geraldomsousaj-hydraulic-model.ipynb",
      "provenance": [],
      "collapsed_sections": [],
      "authorship_tag": "ABX9TyNYI++I3YGDNTZ438KS4UAD",
      "include_colab_link": true
    },
    "kernelspec": {
      "name": "python3",
      "display_name": "Python 3"
    },
    "language_info": {
      "name": "python"
    }
  },
  "cells": [
    {
      "cell_type": "markdown",
      "metadata": {
        "id": "view-in-github",
        "colab_type": "text"
      },
      "source": [
        "<a href=\"https://colab.research.google.com/github/geraldomsousaj/industrial-challenge-EDF/blob/importanceFactor/3_0_geraldomsousaj_hydraulic_model.ipynb\" target=\"_parent\"><img src=\"https://colab.research.google.com/assets/colab-badge.svg\" alt=\"Open In Colab\"/></a>"
      ]
    },
    {
      "cell_type": "code",
      "metadata": {
        "colab": {
          "base_uri": "https://localhost:8080/"
        },
        "id": "fRJ5VIFFhHbx",
        "outputId": "2706007a-13d8-4be8-d3fb-857c1ee4091e"
      },
      "source": [
        "!pip install openturns \n",
        "import pandas as pd\n",
        "import numpy as np\n",
        "import openturns as ot"
      ],
      "execution_count": 2,
      "outputs": [
        {
          "output_type": "stream",
          "text": [
            "Collecting openturns\n",
            "\u001b[?25l  Downloading https://files.pythonhosted.org/packages/92/17/440c3d6aef8cacae09a19118e681920c9fc5c1312c3bb94eab738f71b5ec/openturns-1.17-cp37-cp37m-manylinux1_x86_64.whl (48.0MB)\n",
            "\u001b[K     |████████████████████████████████| 48.0MB 88kB/s \n",
            "\u001b[?25hInstalling collected packages: openturns\n",
            "Successfully installed openturns-1.17\n"
          ],
          "name": "stdout"
        }
      ]
    },
    {
      "cell_type": "markdown",
      "metadata": {
        "id": "yffyQ8gUxQ5a"
      },
      "source": [
        "# 1. Simulating"
      ]
    },
    {
      "cell_type": "code",
      "metadata": {
        "id": "aQSGcApbhbMn"
      },
      "source": [
        "# defining the constants\n",
        "L = 5000 # length of section (m)\n",
        "B = 300 # watercourse width (m)\n",
        "Zb = 55.5 # shoreline elevation (m)"
      ],
      "execution_count": 3,
      "outputs": []
    },
    {
      "cell_type": "code",
      "metadata": {
        "id": "wAMC6YL8sNDr"
      },
      "source": [
        "def function_flood(X):\n",
        "    Q, Ks, Zv, Zm = X\n",
        "    alpha = (Zm - Zv)/L\n",
        "    H = (Q/(Ks * B * np.sqrt(alpha)))** (3.0/5.0) \n",
        "    S = H + Zv - Zb\n",
        "    return [S]\n",
        "\n",
        "input_dimension = 4\n",
        "g = ot.PythonFunction(input_dimension , 1, function_flood)"
      ],
      "execution_count": 4,
      "outputs": []
    },
    {
      "cell_type": "code",
      "metadata": {
        "id": "yBk3dHDftYvS"
      },
      "source": [
        "# Create the marginal distributions of the parameters\n",
        "dist_Q = ot.TruncatedDistribution(ot.Gumbel(558., 1013.), 0, ot.TruncatedDistribution.LOWER)\n",
        "dist_Ks = ot.TruncatedDistribution(ot.Normal(30.0, 7.5), 0, ot.TruncatedDistribution.LOWER)\n",
        "dist_Zv = ot.Triangular(49, 50 , 51)\n",
        "dist_Zm = ot.Triangular(54, 55 , 56)"
      ],
      "execution_count": 5,
      "outputs": []
    },
    {
      "cell_type": "code",
      "metadata": {
        "id": "lHGDoq6Btf1k"
      },
      "source": [
        "X = ot.ComposedDistribution([dist_Q, dist_Ks, dist_Zv, dist_Zm])\n",
        "inputRV = ot.RandomVector(X)"
      ],
      "execution_count": 6,
      "outputs": []
    },
    {
      "cell_type": "code",
      "metadata": {
        "id": "HQnCJxnm3slH"
      },
      "source": [
        "# Run simulations\n",
        "N = 100000\n",
        "S = []\n",
        "for i in range(N):\n",
        "    S.append(function_flood(inputRV.getRealization()))"
      ],
      "execution_count": 7,
      "outputs": []
    },
    {
      "cell_type": "code",
      "metadata": {
        "colab": {
          "base_uri": "https://localhost:8080/"
        },
        "id": "xeuqsQ8-AtPm",
        "outputId": "3bf65482-264f-4df3-d152-8624accbeaff"
      },
      "source": [
        "S_df = pd.DataFrame(S, columns=['S'])\n",
        "print('% of positive values: ' + str(S_df[S_df['S'] > 0].shape[0] / N *100)+\"%\")"
      ],
      "execution_count": 8,
      "outputs": [
        {
          "output_type": "stream",
          "text": [
            "% of positive values: 1.18%\n"
          ],
          "name": "stdout"
        }
      ]
    },
    {
      "cell_type": "code",
      "metadata": {
        "id": "h1y1Ibv7BIoY"
      },
      "source": [
        "df2 = S_df[S_df['S'] > 0]  "
      ],
      "execution_count": 9,
      "outputs": []
    },
    {
      "cell_type": "code",
      "metadata": {
        "colab": {
          "base_uri": "https://localhost:8080/",
          "height": 669
        },
        "id": "Rpiz37gBBZJt",
        "outputId": "fb423394-f68d-4cd2-f662-852e79863a6e"
      },
      "source": [
        "df2.sort_values(by='S', ascending=False).head(20)"
      ],
      "execution_count": 10,
      "outputs": [
        {
          "output_type": "execute_result",
          "data": {
            "text/html": [
              "<div>\n",
              "<style scoped>\n",
              "    .dataframe tbody tr th:only-of-type {\n",
              "        vertical-align: middle;\n",
              "    }\n",
              "\n",
              "    .dataframe tbody tr th {\n",
              "        vertical-align: top;\n",
              "    }\n",
              "\n",
              "    .dataframe thead th {\n",
              "        text-align: right;\n",
              "    }\n",
              "</style>\n",
              "<table border=\"1\" class=\"dataframe\">\n",
              "  <thead>\n",
              "    <tr style=\"text-align: right;\">\n",
              "      <th></th>\n",
              "      <th>S</th>\n",
              "    </tr>\n",
              "  </thead>\n",
              "  <tbody>\n",
              "    <tr>\n",
              "      <th>44871</th>\n",
              "      <td>26.261403</td>\n",
              "    </tr>\n",
              "    <tr>\n",
              "      <th>31510</th>\n",
              "      <td>19.380357</td>\n",
              "    </tr>\n",
              "    <tr>\n",
              "      <th>69886</th>\n",
              "      <td>12.032397</td>\n",
              "    </tr>\n",
              "    <tr>\n",
              "      <th>53839</th>\n",
              "      <td>9.960293</td>\n",
              "    </tr>\n",
              "    <tr>\n",
              "      <th>37320</th>\n",
              "      <td>9.552282</td>\n",
              "    </tr>\n",
              "    <tr>\n",
              "      <th>11143</th>\n",
              "      <td>8.449689</td>\n",
              "    </tr>\n",
              "    <tr>\n",
              "      <th>53743</th>\n",
              "      <td>7.441275</td>\n",
              "    </tr>\n",
              "    <tr>\n",
              "      <th>85957</th>\n",
              "      <td>7.385330</td>\n",
              "    </tr>\n",
              "    <tr>\n",
              "      <th>97123</th>\n",
              "      <td>6.827439</td>\n",
              "    </tr>\n",
              "    <tr>\n",
              "      <th>95301</th>\n",
              "      <td>5.584294</td>\n",
              "    </tr>\n",
              "    <tr>\n",
              "      <th>66589</th>\n",
              "      <td>5.341818</td>\n",
              "    </tr>\n",
              "    <tr>\n",
              "      <th>82852</th>\n",
              "      <td>5.294709</td>\n",
              "    </tr>\n",
              "    <tr>\n",
              "      <th>19327</th>\n",
              "      <td>4.995723</td>\n",
              "    </tr>\n",
              "    <tr>\n",
              "      <th>94050</th>\n",
              "      <td>4.967943</td>\n",
              "    </tr>\n",
              "    <tr>\n",
              "      <th>78784</th>\n",
              "      <td>4.730462</td>\n",
              "    </tr>\n",
              "    <tr>\n",
              "      <th>2332</th>\n",
              "      <td>4.285839</td>\n",
              "    </tr>\n",
              "    <tr>\n",
              "      <th>31709</th>\n",
              "      <td>4.256427</td>\n",
              "    </tr>\n",
              "    <tr>\n",
              "      <th>9290</th>\n",
              "      <td>4.184411</td>\n",
              "    </tr>\n",
              "    <tr>\n",
              "      <th>67265</th>\n",
              "      <td>4.182214</td>\n",
              "    </tr>\n",
              "    <tr>\n",
              "      <th>86579</th>\n",
              "      <td>4.131253</td>\n",
              "    </tr>\n",
              "  </tbody>\n",
              "</table>\n",
              "</div>"
            ],
            "text/plain": [
              "               S\n",
              "44871  26.261403\n",
              "31510  19.380357\n",
              "69886  12.032397\n",
              "53839   9.960293\n",
              "37320   9.552282\n",
              "11143   8.449689\n",
              "53743   7.441275\n",
              "85957   7.385330\n",
              "97123   6.827439\n",
              "95301   5.584294\n",
              "66589   5.341818\n",
              "82852   5.294709\n",
              "19327   4.995723\n",
              "94050   4.967943\n",
              "78784   4.730462\n",
              "2332    4.285839\n",
              "31709   4.256427\n",
              "9290    4.184411\n",
              "67265   4.182214\n",
              "86579   4.131253"
            ]
          },
          "metadata": {
            "tags": []
          },
          "execution_count": 10
        }
      ]
    },
    {
      "cell_type": "code",
      "metadata": {
        "colab": {
          "base_uri": "https://localhost:8080/"
        },
        "id": "vQV9OtL8nugW",
        "outputId": "f9ae384c-efd1-4b73-ea11-e83f02453428"
      },
      "source": [
        "q = [0.95, 0.96, 0.965, 0.97, 0.975, 0.98, 0.985, 0.99, 0.995, 0.996, 0.997, 0.998]\n",
        "for i in q:\n",
        "    print('Quantile {}%: {:0.4f}'.format(i*100, df2.quantile(i).S))\n"
      ],
      "execution_count": 11,
      "outputs": [
        {
          "output_type": "stream",
          "text": [
            "Quantile 95.0%: 2.5694\n",
            "Quantile 96.0%: 2.8290\n",
            "Quantile 96.5%: 2.9600\n",
            "Quantile 97.0%: 3.2717\n",
            "Quantile 97.5%: 3.5275\n",
            "Quantile 98.0%: 3.9323\n",
            "Quantile 98.5%: 4.1829\n",
            "Quantile 99.0%: 5.0585\n",
            "Quantile 99.5%: 7.5472\n",
            "Quantile 99.6%: 8.7628\n",
            "Quantile 99.7%: 9.7412\n",
            "Quantile 99.8%: 11.2906\n"
          ],
          "name": "stdout"
        }
      ]
    },
    {
      "cell_type": "markdown",
      "metadata": {
        "id": "HpfLleA0xNnT"
      },
      "source": [
        "# 2. Distribution Fit"
      ]
    },
    {
      "cell_type": "code",
      "metadata": {
        "colab": {
          "base_uri": "https://localhost:8080/",
          "height": 1000
        },
        "id": "EcNVder5xHdM",
        "outputId": "a4238536-b182-4466-e1db-a7aea3133eb7"
      },
      "source": [
        "%matplotlib inline\n",
        "\n",
        "import warnings\n",
        "import numpy as np\n",
        "import pandas as pd\n",
        "import scipy.stats as st\n",
        "import statsmodels as sm\n",
        "import matplotlib\n",
        "import matplotlib.pyplot as plt\n",
        "\n",
        "matplotlib.rcParams['figure.figsize'] = (16.0, 12.0)\n",
        "matplotlib.style.use('ggplot')\n",
        "\n",
        "print('##### P(EXTREME EVENT) = 1 - F(THRESHOLD) #####')\n",
        "\n",
        "# Create models from data\n",
        "def best_fit_distribution(data, bins=200, ax=None):\n",
        "    \"\"\"Model data by finding best fit distribution to data\"\"\"\n",
        "    # Get histogram of original data\n",
        "    y, x = np.histogram(data, bins=bins, density=True)\n",
        "    x = (x + np.roll(x, -1))[:-1] / 2.0\n",
        "\n",
        "    # Distributions to check\n",
        "    DISTRIBUTIONS = [        \n",
        "        st.dweibull,\n",
        "        st.exponweib,\n",
        "        st.frechet_r,\n",
        "        st.gumbel_r,\n",
        "        # st.gumbel_l,\n",
        "        # st.invweibull\n",
        "    ]\n",
        "\n",
        "    # DISTRIBUTIONS = [st.gumbel_r, st.gumbel_l]\n",
        "\n",
        "    # Best holders\n",
        "    best_distribution = st.norm\n",
        "    best_params = (0.0, 1.0)\n",
        "    best_sse = np.inf\n",
        "\n",
        "    results = {}\n",
        "\n",
        "    # Estimate distribution parameters from data\n",
        "    for distribution in DISTRIBUTIONS:\n",
        "\n",
        "        # Try to fit the distribution\n",
        "        try:\n",
        "            # Ignore warnings from data that can't be fit\n",
        "            with warnings.catch_warnings():\n",
        "                warnings.filterwarnings('ignore')\n",
        "\n",
        "                # fit dist to data\n",
        "                params = distribution.fit(data)\n",
        "\n",
        "                # Separate parts of parameters\n",
        "                arg = params[:-2]\n",
        "                loc = params[-2]\n",
        "                scale = params[-1]\n",
        "\n",
        "                # Calculate fitted PDF and error with fit in distribution\n",
        "                pdf = distribution.pdf(x, loc=loc, scale=scale, *arg)\n",
        "                sse = np.sum(np.power(y - pdf, 2.0))\n",
        "\n",
        "                # if axis pass in add to plot\n",
        "                try:\n",
        "                    if ax:\n",
        "                        pd.Series(pdf, x).plot(ax=ax)\n",
        "                    end\n",
        "                except Exception:\n",
        "                    pass\n",
        "                \n",
        "                # print parameters and cdf for extreme events : P(S > THRESHOLD)\n",
        "                cdf = distribution.cdf(0, loc=loc, scale=scale, *arg)\n",
        "\n",
        "                results[distribution] = params\n",
        "\n",
        "                print(distribution.name, ' : ', (1-cdf)*100, '%')\n",
        "\n",
        "                # identify if this distribution is better\n",
        "                if best_sse > sse > 0:\n",
        "                    best_distribution = distribution\n",
        "                    best_params = params\n",
        "                    best_sse = sse\n",
        "\n",
        "        except Exception:\n",
        "            pass\n",
        "\n",
        "    return (best_distribution.name, best_params, results)\n",
        "\n",
        "def make_pdf(dist, params, size=10000):\n",
        "    \"\"\"Generate distributions's Probability Distribution Function \"\"\"\n",
        "    print(params)\n",
        "    # Separate parts of parameters\n",
        "    arg = params[:-2]\n",
        "    loc = params[-2]\n",
        "    scale = params[-1]\n",
        "\n",
        "    # Get sane start and end points of distribution\n",
        "    start = dist.ppf(0.01, *arg, loc=loc, scale=scale) if arg else dist.ppf(0.01, loc=loc, scale=scale)\n",
        "    end = dist.ppf(0.99, *arg, loc=loc, scale=scale) if arg else dist.ppf(0.99, loc=loc, scale=scale)\n",
        "\n",
        "    # Build PDF and turn into pandas Series\n",
        "    x = np.linspace(start, end, size)\n",
        "    y = dist.pdf(x, loc=loc, scale=scale, *arg)\n",
        "    pdf = pd.Series(y, x)\n",
        "\n",
        "    return pdf\n",
        "\n",
        "# Load data \n",
        "data = S_df['S']\n",
        "\n",
        "# Plot for comparison\n",
        "plt.figure(figsize=(12,8))\n",
        "ax = data.plot(kind='hist', bins=9, alpha=0.5, density=True, lw=2)\n",
        "# Save plot limits\n",
        "dataYLim = ax.get_ylim()\n",
        "\n",
        "# Find best fit distribution\n",
        "best_fit_name, best_fit_params, results = best_fit_distribution(data, 200, ax)\n",
        "best_dist = getattr(st, best_fit_name)\n",
        "\n",
        "# Update plots\n",
        "ax.set_title(u'Height H\\n All Fitted Distributions')\n",
        "ax.set_xlabel(u'H (m)')\n",
        "ax.set_ylabel('Frequency')\n",
        "\n",
        "# Make PDF with best params \n",
        "pdf = make_pdf(best_dist, best_fit_params)\n",
        "\n",
        "weights = np.ones_like(data)/float(len(data))\n",
        "\n",
        "# Display\n",
        "plt.figure(figsize=(12,8))\n",
        "ax = pdf.plot(lw=2, label='PDF', legend=True)\n",
        "data.plot(kind='hist', bins=9, density=True, alpha=0.5, label='Data', legend=True, ax=ax)\n",
        "\n",
        "param_names = (best_dist.shapes + ', loc, scale').split(', ') if best_dist.shapes else ['loc', 'scale']\n",
        "param_str = ', '.join(['{}={:0.2f}'.format(k,v) for k,v in zip(param_names, best_fit_params)])\n",
        "dist_str = '{}({})'.format(best_fit_name, param_str)\n",
        "\n",
        "ax.set_title(u'Height H with best fit distribution \\n' + dist_str)\n",
        "ax.set_xlabel(u'H (m)')\n",
        "ax.set_ylabel('Frequency')"
      ],
      "execution_count": 31,
      "outputs": [
        {
          "output_type": "stream",
          "text": [
            "##### P(EXTREME EVENT) = 1 - F(THRESHOLD) #####\n",
            "dweibull  :  0.6411579767591657 %\n",
            "exponweib  :  1.0787971240006078 %\n",
            "frechet_r  :  3.302447772259798 %\n",
            "gumbel_r  :  2.3727923839858223 %\n",
            "(4.146226459660971, 1.7166136949009747, -6.256661709254427, 2.2144399455549544)\n"
          ],
          "name": "stdout"
        },
        {
          "output_type": "execute_result",
          "data": {
            "text/plain": [
              "Text(0, 0.5, 'Frequency')"
            ]
          },
          "metadata": {
            "tags": []
          },
          "execution_count": 31
        },
        {
          "output_type": "display_data",
          "data": {
            "image/png": "[encoded data removed]",
            "text/plain": [
              "<Figure size 864x576 with 1 Axes>"
            ]
          },
          "metadata": {
            "tags": []
          }
        },
        {
          "output_type": "display_data",
          "data": {
            "image/png": "[encoded data removed]",
            "text/plain": [
              "<Figure size 864x576 with 1 Axes>"
            ]
          },
          "metadata": {
            "tags": []
          }
        }
      ]
    },
    {
      "cell_type": "code",
      "metadata": {
        "colab": {
          "base_uri": "https://localhost:8080/",
          "height": 1000
        },
        "id": "YKBLYXmbmV1o",
        "outputId": "3f09403b-3141-4c5d-d52b-20c487b8e151"
      },
      "source": [
        "threshold = [0, 1, 2, 3, 4, 5, 6, 7, 8]\n",
        "\n",
        "def compute_extreme_event_probability(results, threshold, df=None):\n",
        "\n",
        "    ls = []\n",
        "    for distribution in results: \n",
        "        for t in threshold:\n",
        "            \n",
        "            params = results[distribution]\n",
        "\n",
        "            arg = params[:-2]\n",
        "            loc = params[-2]\n",
        "            scale = params[-1]\n",
        "\n",
        "            # df['distribution'] = distribution\n",
        "            # df['threshold'] = t\n",
        "            # df['extreme_event_prob(%)'] = (1-distribution.cdf(0, loc=loc, scale=scale, *arg))*100\n",
        "\n",
        "            ls.append([distribution.name, t, round((1-distribution.cdf(t, loc=loc, scale=scale, *arg))*100, 4)])\n",
        "\n",
        "    if not df:\n",
        "        df = pd.DataFrame(ls, columns=['distribution', 'threshold', 'extreme_event_prob(%)'])\n",
        "\n",
        "    return df\n",
        "\n",
        "compute_extreme_event_probability(results, threshold)\n"
      ],
      "execution_count": 32,
      "outputs": [
        {
          "output_type": "stream",
          "text": [
            "/usr/local/lib/python3.7/dist-packages/ipykernel_launcher.py:19: DeprecationWarning: `frechet_r` is deprecated!\n",
            "The distribution `frechet_r` is a synonym for `weibull_min`; this historical\n",
            "usage is deprecated because of possible confusion with the (quite different)\n",
            "Frechet distribution.  To preserve the existing behavior of the program, use\n",
            "`scipy.stats.weibull_min`.  For the Frechet distribution (i.e. the Type II\n",
            "extreme value distribution), use `scipy.stats.invweibull`.\n"
          ],
          "name": "stderr"
        },
        {
          "output_type": "execute_result",
          "data": {
            "text/html": [
              "<div>\n",
              "<style scoped>\n",
              "    .dataframe tbody tr th:only-of-type {\n",
              "        vertical-align: middle;\n",
              "    }\n",
              "\n",
              "    .dataframe tbody tr th {\n",
              "        vertical-align: top;\n",
              "    }\n",
              "\n",
              "    .dataframe thead th {\n",
              "        text-align: right;\n",
              "    }\n",
              "</style>\n",
              "<table border=\"1\" class=\"dataframe\">\n",
              "  <thead>\n",
              "    <tr style=\"text-align: right;\">\n",
              "      <th></th>\n",
              "      <th>distribution</th>\n",
              "      <th>threshold</th>\n",
              "      <th>extreme_event_prob(%)</th>\n",
              "    </tr>\n",
              "  </thead>\n",
              "  <tbody>\n",
              "    <tr>\n",
              "      <th>0</th>\n",
              "      <td>dweibull</td>\n",
              "      <td>0</td>\n",
              "      <td>0.6412</td>\n",
              "    </tr>\n",
              "    <tr>\n",
              "      <th>1</th>\n",
              "      <td>dweibull</td>\n",
              "      <td>1</td>\n",
              "      <td>0.1072</td>\n",
              "    </tr>\n",
              "    <tr>\n",
              "      <th>2</th>\n",
              "      <td>dweibull</td>\n",
              "      <td>2</td>\n",
              "      <td>0.0164</td>\n",
              "    </tr>\n",
              "    <tr>\n",
              "      <th>3</th>\n",
              "      <td>dweibull</td>\n",
              "      <td>3</td>\n",
              "      <td>0.0023</td>\n",
              "    </tr>\n",
              "    <tr>\n",
              "      <th>4</th>\n",
              "      <td>dweibull</td>\n",
              "      <td>4</td>\n",
              "      <td>0.0003</td>\n",
              "    </tr>\n",
              "    <tr>\n",
              "      <th>5</th>\n",
              "      <td>dweibull</td>\n",
              "      <td>5</td>\n",
              "      <td>0.0000</td>\n",
              "    </tr>\n",
              "    <tr>\n",
              "      <th>6</th>\n",
              "      <td>dweibull</td>\n",
              "      <td>6</td>\n",
              "      <td>0.0000</td>\n",
              "    </tr>\n",
              "    <tr>\n",
              "      <th>7</th>\n",
              "      <td>dweibull</td>\n",
              "      <td>7</td>\n",
              "      <td>0.0000</td>\n",
              "    </tr>\n",
              "    <tr>\n",
              "      <th>8</th>\n",
              "      <td>dweibull</td>\n",
              "      <td>8</td>\n",
              "      <td>0.0000</td>\n",
              "    </tr>\n",
              "    <tr>\n",
              "      <th>9</th>\n",
              "      <td>exponweib</td>\n",
              "      <td>0</td>\n",
              "      <td>1.0788</td>\n",
              "    </tr>\n",
              "    <tr>\n",
              "      <th>10</th>\n",
              "      <td>exponweib</td>\n",
              "      <td>1</td>\n",
              "      <td>0.1931</td>\n",
              "    </tr>\n",
              "    <tr>\n",
              "      <th>11</th>\n",
              "      <td>exponweib</td>\n",
              "      <td>2</td>\n",
              "      <td>0.0288</td>\n",
              "    </tr>\n",
              "    <tr>\n",
              "      <th>12</th>\n",
              "      <td>exponweib</td>\n",
              "      <td>3</td>\n",
              "      <td>0.0036</td>\n",
              "    </tr>\n",
              "    <tr>\n",
              "      <th>13</th>\n",
              "      <td>exponweib</td>\n",
              "      <td>4</td>\n",
              "      <td>0.0004</td>\n",
              "    </tr>\n",
              "    <tr>\n",
              "      <th>14</th>\n",
              "      <td>exponweib</td>\n",
              "      <td>5</td>\n",
              "      <td>0.0000</td>\n",
              "    </tr>\n",
              "    <tr>\n",
              "      <th>15</th>\n",
              "      <td>exponweib</td>\n",
              "      <td>6</td>\n",
              "      <td>0.0000</td>\n",
              "    </tr>\n",
              "    <tr>\n",
              "      <th>16</th>\n",
              "      <td>exponweib</td>\n",
              "      <td>7</td>\n",
              "      <td>0.0000</td>\n",
              "    </tr>\n",
              "    <tr>\n",
              "      <th>17</th>\n",
              "      <td>exponweib</td>\n",
              "      <td>8</td>\n",
              "      <td>0.0000</td>\n",
              "    </tr>\n",
              "    <tr>\n",
              "      <th>18</th>\n",
              "      <td>frechet_r</td>\n",
              "      <td>0</td>\n",
              "      <td>3.3024</td>\n",
              "    </tr>\n",
              "    <tr>\n",
              "      <th>19</th>\n",
              "      <td>frechet_r</td>\n",
              "      <td>1</td>\n",
              "      <td>2.1472</td>\n",
              "    </tr>\n",
              "    <tr>\n",
              "      <th>20</th>\n",
              "      <td>frechet_r</td>\n",
              "      <td>2</td>\n",
              "      <td>1.4125</td>\n",
              "    </tr>\n",
              "    <tr>\n",
              "      <th>21</th>\n",
              "      <td>frechet_r</td>\n",
              "      <td>3</td>\n",
              "      <td>0.9385</td>\n",
              "    </tr>\n",
              "    <tr>\n",
              "      <th>22</th>\n",
              "      <td>frechet_r</td>\n",
              "      <td>4</td>\n",
              "      <td>0.6290</td>\n",
              "    </tr>\n",
              "    <tr>\n",
              "      <th>23</th>\n",
              "      <td>frechet_r</td>\n",
              "      <td>5</td>\n",
              "      <td>0.4249</td>\n",
              "    </tr>\n",
              "    <tr>\n",
              "      <th>24</th>\n",
              "      <td>frechet_r</td>\n",
              "      <td>6</td>\n",
              "      <td>0.2889</td>\n",
              "    </tr>\n",
              "    <tr>\n",
              "      <th>25</th>\n",
              "      <td>frechet_r</td>\n",
              "      <td>7</td>\n",
              "      <td>0.1977</td>\n",
              "    </tr>\n",
              "    <tr>\n",
              "      <th>26</th>\n",
              "      <td>frechet_r</td>\n",
              "      <td>8</td>\n",
              "      <td>0.1361</td>\n",
              "    </tr>\n",
              "    <tr>\n",
              "      <th>27</th>\n",
              "      <td>gumbel_r</td>\n",
              "      <td>0</td>\n",
              "      <td>2.3728</td>\n",
              "    </tr>\n",
              "    <tr>\n",
              "      <th>28</th>\n",
              "      <td>gumbel_r</td>\n",
              "      <td>1</td>\n",
              "      <td>0.8137</td>\n",
              "    </tr>\n",
              "    <tr>\n",
              "      <th>29</th>\n",
              "      <td>gumbel_r</td>\n",
              "      <td>2</td>\n",
              "      <td>0.2776</td>\n",
              "    </tr>\n",
              "    <tr>\n",
              "      <th>30</th>\n",
              "      <td>gumbel_r</td>\n",
              "      <td>3</td>\n",
              "      <td>0.0945</td>\n",
              "    </tr>\n",
              "    <tr>\n",
              "      <th>31</th>\n",
              "      <td>gumbel_r</td>\n",
              "      <td>4</td>\n",
              "      <td>0.0322</td>\n",
              "    </tr>\n",
              "    <tr>\n",
              "      <th>32</th>\n",
              "      <td>gumbel_r</td>\n",
              "      <td>5</td>\n",
              "      <td>0.0109</td>\n",
              "    </tr>\n",
              "    <tr>\n",
              "      <th>33</th>\n",
              "      <td>gumbel_r</td>\n",
              "      <td>6</td>\n",
              "      <td>0.0037</td>\n",
              "    </tr>\n",
              "    <tr>\n",
              "      <th>34</th>\n",
              "      <td>gumbel_r</td>\n",
              "      <td>7</td>\n",
              "      <td>0.0013</td>\n",
              "    </tr>\n",
              "    <tr>\n",
              "      <th>35</th>\n",
              "      <td>gumbel_r</td>\n",
              "      <td>8</td>\n",
              "      <td>0.0004</td>\n",
              "    </tr>\n",
              "  </tbody>\n",
              "</table>\n",
              "</div>"
            ],
            "text/plain": [
              "   distribution  threshold  extreme_event_prob(%)\n",
              "0      dweibull          0                 0.6412\n",
              "1      dweibull          1                 0.1072\n",
              "2      dweibull          2                 0.0164\n",
              "3      dweibull          3                 0.0023\n",
              "4      dweibull          4                 0.0003\n",
              "5      dweibull          5                 0.0000\n",
              "6      dweibull          6                 0.0000\n",
              "7      dweibull          7                 0.0000\n",
              "8      dweibull          8                 0.0000\n",
              "9     exponweib          0                 1.0788\n",
              "10    exponweib          1                 0.1931\n",
              "11    exponweib          2                 0.0288\n",
              "12    exponweib          3                 0.0036\n",
              "13    exponweib          4                 0.0004\n",
              "14    exponweib          5                 0.0000\n",
              "15    exponweib          6                 0.0000\n",
              "16    exponweib          7                 0.0000\n",
              "17    exponweib          8                 0.0000\n",
              "18    frechet_r          0                 3.3024\n",
              "19    frechet_r          1                 2.1472\n",
              "20    frechet_r          2                 1.4125\n",
              "21    frechet_r          3                 0.9385\n",
              "22    frechet_r          4                 0.6290\n",
              "23    frechet_r          5                 0.4249\n",
              "24    frechet_r          6                 0.2889\n",
              "25    frechet_r          7                 0.1977\n",
              "26    frechet_r          8                 0.1361\n",
              "27     gumbel_r          0                 2.3728\n",
              "28     gumbel_r          1                 0.8137\n",
              "29     gumbel_r          2                 0.2776\n",
              "30     gumbel_r          3                 0.0945\n",
              "31     gumbel_r          4                 0.0322\n",
              "32     gumbel_r          5                 0.0109\n",
              "33     gumbel_r          6                 0.0037\n",
              "34     gumbel_r          7                 0.0013\n",
              "35     gumbel_r          8                 0.0004"
            ]
          },
          "metadata": {
            "tags": []
          },
          "execution_count": 32
        }
      ]
    },
    {
      "cell_type": "code",
      "metadata": {
        "id": "g8iO0wXdmjVo"
      },
      "source": [
        ""
      ],
      "execution_count": null,
      "outputs": []
    }
  ]
}