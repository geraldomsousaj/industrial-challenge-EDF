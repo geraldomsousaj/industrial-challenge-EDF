{
  "nbformat": 4,
  "nbformat_minor": 0,
  "metadata": {
    "colab": {
      "name": "3.0-geraldomsousaj-hydraulic-model.ipynb",
      "provenance": [],
      "collapsed_sections": [],
      "authorship_tag": "ABX9TyOkGLRzrEJ3p7gTINK+gL3c",
      "include_colab_link": true
    },
    "kernelspec": {
      "name": "python3",
      "display_name": "Python 3"
    },
    "language_info": {
      "name": "python"
    }
  },
  "cells": [
    {
      "cell_type": "markdown",
      "metadata": {
        "id": "view-in-github",
        "colab_type": "text"
      },
      "source": [
        "<a href=\"https://colab.research.google.com/github/geraldomsousaj/industrial-challenge-EDF/blob/importanceFactor/3_0_geraldomsousaj_hydraulic_model.ipynb\" target=\"_parent\"><img src=\"https://colab.research.google.com/assets/colab-badge.svg\" alt=\"Open In Colab\"/></a>"
      ]
    },
    {
      "cell_type": "code",
      "metadata": {
        "colab": {
          "base_uri": "https://localhost:8080/"
        },
        "id": "fRJ5VIFFhHbx",
        "outputId": "24011d68-92a1-4545-a6f5-305eaa2f8f03"
      },
      "source": [
        "!pip install openturns \n",
        "import pandas as pd\n",
        "import numpy as np\n",
        "import openturns as ot"
      ],
      "execution_count": 1,
      "outputs": [
        {
          "output_type": "stream",
          "text": [
            "Requirement already satisfied: openturns in /usr/local/lib/python3.7/dist-packages (1.17)\n"
          ],
          "name": "stdout"
        }
      ]
    },
    {
      "cell_type": "code",
      "metadata": {
        "id": "aQSGcApbhbMn"
      },
      "source": [
        "# defining the constants\n",
        "L = 5000 # length of section (m)\n",
        "B = 300 # watercourse width (m)\n",
        "Zb = 55.5 # shoreline elevation (m)"
      ],
      "execution_count": 2,
      "outputs": []
    },
    {
      "cell_type": "code",
      "metadata": {
        "id": "wAMC6YL8sNDr"
      },
      "source": [
        "def function_flood(X):\n",
        "    Q, Ks, Zv, Zm = X\n",
        "    alpha = (Zm - Zv)/L\n",
        "    H = (Q/(Ks * B * np.sqrt(alpha)))** (3.0/5.0) \n",
        "    S = H + Zv - Zb\n",
        "    return [S]\n",
        "\n",
        "input_dimension = 4\n",
        "g = ot.PythonFunction(input_dimension , 1, function_flood)"
      ],
      "execution_count": 3,
      "outputs": []
    },
    {
      "cell_type": "code",
      "metadata": {
        "id": "yBk3dHDftYvS"
      },
      "source": [
        "# Create the marginal distributions of the parameters\n",
        "dist_Q = ot.TruncatedDistribution(ot.Gumbel(558., 1013.), 0, ot.TruncatedDistribution.LOWER)\n",
        "dist_Ks = ot.TruncatedDistribution(ot.Normal(30.0, 7.5), 0, ot.TruncatedDistribution.LOWER)\n",
        "dist_Zv = ot.Triangular(49, 50 , 51)\n",
        "dist_Zm = ot.Triangular(54, 55 , 56)"
      ],
      "execution_count": 4,
      "outputs": []
    },
    {
      "cell_type": "code",
      "metadata": {
        "id": "lHGDoq6Btf1k"
      },
      "source": [
        "X = ot.ComposedDistribution([dist_Q, dist_Ks, dist_Zv, dist_Zm])\n",
        "inputRV = ot.RandomVector(X)"
      ],
      "execution_count": 5,
      "outputs": []
    },
    {
      "cell_type": "code",
      "metadata": {
        "id": "HQnCJxnm3slH"
      },
      "source": [
        "# Run simulations\n",
        "N = 100000\n",
        "S = []\n",
        "for i in range(N):\n",
        "    S.append(function_flood(inputRV.getRealization()))"
      ],
      "execution_count": 6,
      "outputs": []
    },
    {
      "cell_type": "code",
      "metadata": {
        "colab": {
          "base_uri": "https://localhost:8080/"
        },
        "id": "xeuqsQ8-AtPm",
        "outputId": "5eed3b32-5afa-4c0c-a26d-2f3c28e66a64"
      },
      "source": [
        "S_df = pd.DataFrame(S, columns=['S'])\n",
        "print('% of positive values: ' + str(S_df[S_df['S'] > 0].shape[0] / N *100)+\"%\")"
      ],
      "execution_count": 7,
      "outputs": [
        {
          "output_type": "stream",
          "text": [
            "% of positive values: 1.18%\n"
          ],
          "name": "stdout"
        }
      ]
    },
    {
      "cell_type": "code",
      "metadata": {
        "id": "h1y1Ibv7BIoY"
      },
      "source": [
        "df2 = S_df[S_df['S'] > 0]  "
      ],
      "execution_count": 8,
      "outputs": []
    },
    {
      "cell_type": "code",
      "metadata": {
        "colab": {
          "base_uri": "https://localhost:8080/",
          "height": 669
        },
        "id": "Rpiz37gBBZJt",
        "outputId": "94c22d11-0b6d-470e-8cf0-003e626192e6"
      },
      "source": [
        "df2.sort_values(by='S', ascending=False).head(20)"
      ],
      "execution_count": 9,
      "outputs": [
        {
          "output_type": "execute_result",
          "data": {
            "text/html": [
              "<div>\n",
              "<style scoped>\n",
              "    .dataframe tbody tr th:only-of-type {\n",
              "        vertical-align: middle;\n",
              "    }\n",
              "\n",
              "    .dataframe tbody tr th {\n",
              "        vertical-align: top;\n",
              "    }\n",
              "\n",
              "    .dataframe thead th {\n",
              "        text-align: right;\n",
              "    }\n",
              "</style>\n",
              "<table border=\"1\" class=\"dataframe\">\n",
              "  <thead>\n",
              "    <tr style=\"text-align: right;\">\n",
              "      <th></th>\n",
              "      <th>S</th>\n",
              "    </tr>\n",
              "  </thead>\n",
              "  <tbody>\n",
              "    <tr>\n",
              "      <th>44871</th>\n",
              "      <td>26.261403</td>\n",
              "    </tr>\n",
              "    <tr>\n",
              "      <th>31510</th>\n",
              "      <td>19.380357</td>\n",
              "    </tr>\n",
              "    <tr>\n",
              "      <th>69886</th>\n",
              "      <td>12.032397</td>\n",
              "    </tr>\n",
              "    <tr>\n",
              "      <th>53839</th>\n",
              "      <td>9.960293</td>\n",
              "    </tr>\n",
              "    <tr>\n",
              "      <th>37320</th>\n",
              "      <td>9.552282</td>\n",
              "    </tr>\n",
              "    <tr>\n",
              "      <th>11143</th>\n",
              "      <td>8.449689</td>\n",
              "    </tr>\n",
              "    <tr>\n",
              "      <th>53743</th>\n",
              "      <td>7.441275</td>\n",
              "    </tr>\n",
              "    <tr>\n",
              "      <th>85957</th>\n",
              "      <td>7.385330</td>\n",
              "    </tr>\n",
              "    <tr>\n",
              "      <th>97123</th>\n",
              "      <td>6.827439</td>\n",
              "    </tr>\n",
              "    <tr>\n",
              "      <th>95301</th>\n",
              "      <td>5.584294</td>\n",
              "    </tr>\n",
              "    <tr>\n",
              "      <th>66589</th>\n",
              "      <td>5.341818</td>\n",
              "    </tr>\n",
              "    <tr>\n",
              "      <th>82852</th>\n",
              "      <td>5.294709</td>\n",
              "    </tr>\n",
              "    <tr>\n",
              "      <th>19327</th>\n",
              "      <td>4.995723</td>\n",
              "    </tr>\n",
              "    <tr>\n",
              "      <th>94050</th>\n",
              "      <td>4.967943</td>\n",
              "    </tr>\n",
              "    <tr>\n",
              "      <th>78784</th>\n",
              "      <td>4.730462</td>\n",
              "    </tr>\n",
              "    <tr>\n",
              "      <th>2332</th>\n",
              "      <td>4.285839</td>\n",
              "    </tr>\n",
              "    <tr>\n",
              "      <th>31709</th>\n",
              "      <td>4.256427</td>\n",
              "    </tr>\n",
              "    <tr>\n",
              "      <th>9290</th>\n",
              "      <td>4.184411</td>\n",
              "    </tr>\n",
              "    <tr>\n",
              "      <th>67265</th>\n",
              "      <td>4.182214</td>\n",
              "    </tr>\n",
              "    <tr>\n",
              "      <th>86579</th>\n",
              "      <td>4.131253</td>\n",
              "    </tr>\n",
              "  </tbody>\n",
              "</table>\n",
              "</div>"
            ],
            "text/plain": [
              "               S\n",
              "44871  26.261403\n",
              "31510  19.380357\n",
              "69886  12.032397\n",
              "53839   9.960293\n",
              "37320   9.552282\n",
              "11143   8.449689\n",
              "53743   7.441275\n",
              "85957   7.385330\n",
              "97123   6.827439\n",
              "95301   5.584294\n",
              "66589   5.341818\n",
              "82852   5.294709\n",
              "19327   4.995723\n",
              "94050   4.967943\n",
              "78784   4.730462\n",
              "2332    4.285839\n",
              "31709   4.256427\n",
              "9290    4.184411\n",
              "67265   4.182214\n",
              "86579   4.131253"
            ]
          },
          "metadata": {
            "tags": []
          },
          "execution_count": 9
        }
      ]
    },
    {
      "cell_type": "code",
      "metadata": {
        "colab": {
          "base_uri": "https://localhost:8080/"
        },
        "id": "vQV9OtL8nugW",
        "outputId": "2c485307-b0eb-4aa8-c81b-1b8eeed7eb45"
      },
      "source": [
        "q = [0.95, 0.96, 0.965, 0.97, 0.975, 0.98, 0.985, 0.99, 0.995, 0.996, 0.997, 0.998]\n",
        "for i in q:\n",
        "    print('Quantile {}%: {:0.4f}'.format(i*100, df2.quantile(i).S))\n"
      ],
      "execution_count": 33,
      "outputs": [
        {
          "output_type": "stream",
          "text": [
            "Quantile 95.0%: 2.5694\n",
            "Quantile 96.0%: 2.8290\n",
            "Quantile 96.5%: 2.9600\n",
            "Quantile 97.0%: 3.2717\n",
            "Quantile 97.5%: 3.5275\n",
            "Quantile 98.0%: 3.9323\n",
            "Quantile 98.5%: 4.1829\n",
            "Quantile 99.0%: 5.0585\n",
            "Quantile 99.5%: 7.5472\n",
            "Quantile 99.6%: 8.7628\n",
            "Quantile 99.7%: 9.7412\n",
            "Quantile 99.8%: 11.2906\n"
          ],
          "name": "stdout"
        }
      ]
    }
  ]
}